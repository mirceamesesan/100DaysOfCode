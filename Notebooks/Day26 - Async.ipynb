{
 "cells": [
  {
   "cell_type": "markdown",
   "metadata": {},
   "source": [
    "# Day 26 Asynchronous Programming\n",
    "\n",
    "- Coroutines\n",
    "- Tasks\n",
    "- Futures\n",
    "- Await/Async keywords\n",
    "- AsyncIO Module"
   ]
  },
  {
   "cell_type": "code",
   "execution_count": 36,
   "metadata": {},
   "outputs": [],
   "source": [
    "# Based on a video by Tech with Tim\n",
    "# https://www.youtube.com/watch?v=t5Bo1Je9EmE"
   ]
  },
  {
   "cell_type": "markdown",
   "metadata": {},
   "source": [
    "### But what is synchronous programming?\n",
    "It means that everything that you do it happens in sequential. A performance based on the speed of processor."
   ]
  },
  {
   "cell_type": "code",
   "execution_count": 37,
   "metadata": {},
   "outputs": [
    {
     "name": "stdout",
     "output_type": "stream",
     "text": [
      "This is a foo function\n",
      "Job's done!\n"
     ]
    }
   ],
   "source": [
    "def foo():\n",
    "    print('This is a foo function')\n",
    "\n",
    "foo()\n",
    "# The below statement will only be processed only after the above foo function\n",
    "print(\"Job's done!\")"
   ]
  },
  {
   "cell_type": "markdown",
   "metadata": {},
   "source": [
    "\n",
    "### Asynchronous\n",
    "Occurence of events independent of the main program flow. (Wiki)\n",
    "\n",
    "Very useful for server operations. When you're quering for your databse and waiting for a response."
   ]
  },
  {
   "cell_type": "code",
   "execution_count": 38,
   "metadata": {},
   "outputs": [],
   "source": [
    "import asyncio"
   ]
  },
  {
   "cell_type": "code",
   "execution_count": 64,
   "metadata": {},
   "outputs": [],
   "source": [
    "# Is a rapped version of a function that it allows to work asynchronious\n",
    "\n",
    "async def main():\n",
    "    '''\n",
    "    Async will create a wrapper around our main() function.\n",
    "    This will create a co-routine object that can be executed with await...\n",
    "    '''\n",
    "    print(\"This is an async operation\")\n",
    "    await foo('John')\n",
    "    task = asyncio.create_task(foo('Kyle'))\n",
    "\n",
    "    await asyncio.sleep(.5)\n",
    "    print('\\tAfter the foo function has runned...')\n",
    "\n",
    "async def foo(keyword):\n",
    "    print(f\"This is await for {keyword}\")\n",
    "    await asyncio.sleep(2)\n",
    "    print('Something else after a time sleep')\n"
   ]
  },
  {
   "cell_type": "code",
   "execution_count": 65,
   "metadata": {},
   "outputs": [
    {
     "name": "stdout",
     "output_type": "stream",
     "text": [
      "This is an async operation\n",
      "This is await for John\n",
      "Something else after a time sleep\n",
      "This is await for Kyle\n",
      "\tAfter the foo function has runned...\n",
      "This is the final final print...\n",
      "Something else after a time sleep\n"
     ]
    }
   ],
   "source": [
    "# When we actually what to run a coroutine function we need to add await\n",
    "await main()\n",
    "print('This is the final final print...')"
   ]
  },
  {
   "cell_type": "markdown",
   "metadata": {},
   "source": [
    "### Asyncio Example"
   ]
  },
  {
   "cell_type": "code",
   "execution_count": 66,
   "metadata": {},
   "outputs": [],
   "source": [
    "import asyncio"
   ]
  },
  {
   "cell_type": "code",
   "execution_count": 80,
   "metadata": {},
   "outputs": [],
   "source": [
    "async def fetch_data():\n",
    "    print('...Start fetching data')\n",
    "    await asyncio.sleep(1.5)\n",
    "    print('Done fetching!...')\n",
    "    return {'data': 1}\n",
    "\n",
    "async def print_numbers():\n",
    "    for i in range(10):\n",
    "        print(i)\n",
    "        await asyncio.sleep(0.25)\n",
    "    \n",
    "async def main():\n",
    "    task1 = asyncio.create_task(fetch_data())\n",
    "    task2 = asyncio.create_task(print_numbers())\n",
    "\n",
    "    # getting the values from fetch_data\n",
    "    # first the task1 has to finish\n",
    "    print(task1)\n",
    "    value = await task1\n",
    "    print(value)\n",
    "\n",
    "    # if we want to finish the function print_numbers()\n",
    "    # we need to await for task2\n",
    "    await task2"
   ]
  },
  {
   "cell_type": "code",
   "execution_count": 81,
   "metadata": {},
   "outputs": [
    {
     "name": "stdout",
     "output_type": "stream",
     "text": [
      "<Task pending name='Task-40' coro=<fetch_data() running at /var/folders/h3/pxmyvvmn4dl2469cqk1x7jv00000gn/T/ipykernel_94237/101503357.py:1>>\n",
      "...Start fetching data\n",
      "0\n",
      "1\n",
      "2\n",
      "3\n",
      "4\n",
      "5\n",
      "Done fetching!...\n",
      "{'data': 1}\n",
      "6\n",
      "7\n",
      "8\n",
      "9\n"
     ]
    }
   ],
   "source": [
    "# asyncio.run(main())\n",
    "await main()"
   ]
  },
  {
   "cell_type": "markdown",
   "metadata": {},
   "source": []
  }
 ],
 "metadata": {
  "interpreter": {
   "hash": "aee8b7b246df8f9039afb4144a1f6fd8d2ca17a180786b69acc140d282b71a49"
  },
  "kernelspec": {
   "display_name": "Python 3.10.0 64-bit",
   "language": "python",
   "name": "python3"
  },
  "language_info": {
   "codemirror_mode": {
    "name": "ipython",
    "version": 3
   },
   "file_extension": ".py",
   "mimetype": "text/x-python",
   "name": "python",
   "nbconvert_exporter": "python",
   "pygments_lexer": "ipython3",
   "version": "3.10.0"
  },
  "orig_nbformat": 4
 },
 "nbformat": 4,
 "nbformat_minor": 2
}
