{
 "cells": [
  {
   "cell_type": "markdown",
   "metadata": {},
   "source": [
    "# Functions\n",
    "Instructions packaged together that perform a specific task"
   ]
  },
  {
   "cell_type": "code",
   "execution_count": 150,
   "metadata": {},
   "outputs": [
    {
     "name": "stdout",
     "output_type": "stream",
     "text": [
      "Hello, function!\n"
     ]
    }
   ],
   "source": [
    "# The structure of a function\n",
    "# def from definition\n",
    "def hello_func():\n",
    "    print('Hello, function!')\n",
    "\n",
    "hello_func()"
   ]
  },
  {
   "cell_type": "markdown",
   "metadata": {},
   "source": [
    "### DRY Concept\n",
    "Don't repeat yourself"
   ]
  },
  {
   "cell_type": "code",
   "execution_count": 14,
   "metadata": {},
   "outputs": [
    {
     "name": "stdout",
     "output_type": "stream",
     "text": [
      "Hello function!\n"
     ]
    }
   ],
   "source": [
    "def hello():\n",
    "    # a function takes an input and returns a value\n",
    "    return \"Hello function!\"\n",
    "\n",
    "greeting = hello()\n",
    "print(greeting)"
   ]
  },
  {
   "cell_type": "markdown",
   "metadata": {},
   "source": [
    "### Passing arguments to a function"
   ]
  },
  {
   "cell_type": "code",
   "execution_count": 23,
   "metadata": {},
   "outputs": [
    {
     "name": "stdout",
     "output_type": "stream",
     "text": [
      "Welcome to the jungle, You!\n"
     ]
    }
   ],
   "source": [
    "def greet(keyword, name=\"You\"):\n",
    "    # Having a default parameter inside the function\n",
    "    # This should always come at last after the required parameters\n",
    "    # the scope of the parameter 'keyword' is only inside this function\n",
    "    print(f'Welcome to the {keyword}, {name}!')\n",
    "\n",
    "# calling the function must contain an argument\n",
    "greet('jungle')"
   ]
  },
  {
   "cell_type": "markdown",
   "metadata": {},
   "source": [
    "### Functions containing *args *kwargs"
   ]
  },
  {
   "cell_type": "code",
   "execution_count": 25,
   "metadata": {},
   "outputs": [],
   "source": [
    "# Allowing us to except an arbitrary number of positional or keyword arguments\n",
    "# *args\n",
    "    # positional arguments\n",
    "# **kwargs\n",
    "    # keyword arguments\n",
    "\n",
    "def student_info(*args, **kwargs):\n",
    "    print(args)\n",
    "    print(kwargs)"
   ]
  },
  {
   "cell_type": "code",
   "execution_count": 30,
   "metadata": {},
   "outputs": [
    {
     "name": "stdout",
     "output_type": "stream",
     "text": [
      "('Smith', 10)\n",
      "{'name': 'John', 'age': '10'}\n"
     ]
    }
   ],
   "source": [
    "# args will print a tuple\n",
    "# kwargs will print a dictionary\n",
    "student_info('Smith', 10, name='John', age='10')"
   ]
  },
  {
   "cell_type": "code",
   "execution_count": 38,
   "metadata": {},
   "outputs": [
    {
     "name": "stdout",
     "output_type": "stream",
     "text": [
      "(['Math', 'Art', 'Languages'],)\n",
      "{'name': 'Smith', 'age': 32}\n"
     ]
    }
   ],
   "source": [
    "courses = ['Math', 'Art', 'Languages']\n",
    "info = {'name': 'Smith', 'age': 32}\n",
    "# using the * will unpack as args\n",
    "# using the ** will unpack as kwargs\n",
    "student_info(courses, **info)"
   ]
  },
  {
   "cell_type": "markdown",
   "metadata": {},
   "source": [
    "Using docstring inside the function that will explain what the function is supposed to do"
   ]
  },
  {
   "cell_type": "code",
   "execution_count": 40,
   "metadata": {},
   "outputs": [],
   "source": [
    "month_days = [0, 31 ,28, 31, 30 ,31, 30 ,31 ,31, 30 ,31, 30 ,31]\n",
    "\n",
    "def is_leap(year):\n",
    "    '''Return True for leap years, Flase for non-leap years.'''\n",
    "\n",
    "    return year % 4 == 0 and (year % 100 != 0 or year % 400 == 0)\n",
    "\n",
    "def days_in_mouth(year, month):\n",
    "    '''Return number of days in that month in that year.'''\n",
    "\n",
    "    if not 1 <= month <= 12:\n",
    "        return 'Invalid month'\n",
    "    if month == 2 and is_leap(year):\n",
    "        return 29\n",
    "    \n",
    "    return month_days[month]"
   ]
  },
  {
   "cell_type": "code",
   "execution_count": 47,
   "metadata": {},
   "outputs": [
    {
     "data": {
      "text/plain": [
       "28"
      ]
     },
     "execution_count": 47,
     "metadata": {},
     "output_type": "execute_result"
    }
   ],
   "source": [
    "days_in_mouth(2022, 2)"
   ]
  },
  {
   "cell_type": "markdown",
   "metadata": {},
   "source": [
    "---"
   ]
  },
  {
   "cell_type": "code",
   "execution_count": 48,
   "metadata": {},
   "outputs": [],
   "source": [
    "# Construction of functions\n",
    "# Use lowercase for functions and _to_separate_words\n",
    "def greet():\n",
    "    print('Hi there again')"
   ]
  },
  {
   "cell_type": "code",
   "execution_count": 49,
   "metadata": {},
   "outputs": [
    {
     "name": "stdout",
     "output_type": "stream",
     "text": [
      "Hi there\n",
      "Welcome\n"
     ]
    }
   ],
   "source": [
    "greet()"
   ]
  },
  {
   "cell_type": "markdown",
   "metadata": {},
   "source": [
    "### There are 2 types of functions\n",
    "1. Functions that perform a task"
   ]
  },
  {
   "cell_type": "code",
   "execution_count": 63,
   "metadata": {},
   "outputs": [
    {
     "name": "stdout",
     "output_type": "stream",
     "text": [
      "Hi there\n",
      "Welcome\n",
      "None\n"
     ]
    }
   ],
   "source": [
    "# Performing a task\n",
    "# Printing something on the terminal\n",
    "# all functions that perform a task by default return 'None'\n",
    "print(greet())"
   ]
  },
  {
   "cell_type": "markdown",
   "metadata": {},
   "source": [
    "2. Functions that calculate and return a value"
   ]
  },
  {
   "cell_type": "code",
   "execution_count": 64,
   "metadata": {},
   "outputs": [],
   "source": [
    "# Returning a value\n",
    "# using return\n",
    "def get_greeting(name):\n",
    "    return f'Hi, {name}'\n",
    "\n",
    "message = get_greeting('Michael')"
   ]
  },
  {
   "cell_type": "code",
   "execution_count": 65,
   "metadata": {},
   "outputs": [
    {
     "data": {
      "text/plain": [
       "11"
      ]
     },
     "execution_count": 65,
     "metadata": {},
     "output_type": "execute_result"
    }
   ],
   "source": [
    "message\n",
    "file = open('Day07.txt', 'w')\n",
    "file.write(message)"
   ]
  },
  {
   "cell_type": "markdown",
   "metadata": {},
   "source": [
    "### Keyword Arguments"
   ]
  },
  {
   "cell_type": "code",
   "execution_count": 68,
   "metadata": {},
   "outputs": [
    {
     "data": {
      "text/plain": [
       "3"
      ]
     },
     "execution_count": 68,
     "metadata": {},
     "output_type": "execute_result"
    }
   ],
   "source": [
    "def increment(number, by):\n",
    "    return number + by\n",
    "\n",
    "\n",
    "increment(2, by=1)"
   ]
  },
  {
   "cell_type": "markdown",
   "metadata": {},
   "source": [
    "Default Arguments"
   ]
  },
  {
   "cell_type": "code",
   "execution_count": 72,
   "metadata": {},
   "outputs": [
    {
     "data": {
      "text/plain": [
       "15"
      ]
     },
     "execution_count": 72,
     "metadata": {},
     "output_type": "execute_result"
    }
   ],
   "source": [
    "# default parameteres should always come after the required parameteres\n",
    "def multiply(number, by=1):\n",
    "    return number * by\n",
    "\n",
    "\n",
    "multiply(3,5)"
   ]
  },
  {
   "cell_type": "markdown",
   "metadata": {},
   "source": [
    "*args **kwargs"
   ]
  },
  {
   "cell_type": "code",
   "execution_count": 86,
   "metadata": {},
   "outputs": [
    {
     "data": {
      "text/plain": [
       "72"
      ]
     },
     "execution_count": 86,
     "metadata": {},
     "output_type": "execute_result"
    }
   ],
   "source": [
    "# *args - positional arguments\n",
    "def multiply(*numbers):\n",
    "    total = 1\n",
    "    for number in numbers:\n",
    "        total *= number\n",
    "    \n",
    "    return total\n",
    "\n",
    "\n",
    "multiply(12, 2, 3)"
   ]
  },
  {
   "cell_type": "code",
   "execution_count": 94,
   "metadata": {},
   "outputs": [
    {
     "name": "stdout",
     "output_type": "stream",
     "text": [
      "{'id': 32, 'name': 'John', 'age': 22}\n"
     ]
    }
   ],
   "source": [
    "# **kwargs - keyword arguments\n",
    "def save_user(**user):\n",
    "    print(user)\n",
    "\n",
    "\n",
    "save_user(id=32, name='John', age=22)"
   ]
  },
  {
   "cell_type": "markdown",
   "metadata": {},
   "source": [
    "### Scope. Local and Global variables\n",
    "Refers to the region of the code where the variable is defined\n"
   ]
  },
  {
   "cell_type": "code",
   "execution_count": 114,
   "metadata": {},
   "outputs": [],
   "source": [
    "# global variables are not recommended\n",
    "message = 'This is a global variable'\n",
    "\n",
    "def greet(name):\n",
    "    # local variable in this function\n",
    "    message = f'{name}'\n",
    "    print(message)"
   ]
  },
  {
   "cell_type": "code",
   "execution_count": 115,
   "metadata": {},
   "outputs": [
    {
     "name": "stdout",
     "output_type": "stream",
     "text": [
      "Stuart\n"
     ]
    }
   ],
   "source": [
    "greet('Stuart')"
   ]
  },
  {
   "cell_type": "markdown",
   "metadata": {},
   "source": [
    "### Algorithm EX"
   ]
  },
  {
   "cell_type": "code",
   "execution_count": 149,
   "metadata": {},
   "outputs": [
    {
     "name": "stdout",
     "output_type": "stream",
     "text": [
      "7\n"
     ]
    }
   ],
   "source": [
    "def fizz_buzz(input):\n",
    "    '''\n",
    "    Takes an input and returns a different result:\n",
    "    if its div by 3 will return > 'Fizz'\n",
    "    if its div by 5 will return > 'Buzz'\n",
    "    if its div by 3 and 5 will return > 'FizzBuzz'\n",
    "    for any other number will return the same input\n",
    "    '''\n",
    "\n",
    "    if (input % 3 == 0) and (input % 5 == 0):\n",
    "        return 'FizzBuzz'\n",
    "    \n",
    "    if input % 3 == 0:\n",
    "        return 'Fizz'\n",
    "    \n",
    "    if input % 5 == 0:\n",
    "        return 'Buzz'\n",
    "    \n",
    "    return input\n",
    "\n",
    "\n",
    "print(fizz_buzz(7))"
   ]
  }
 ],
 "metadata": {
  "interpreter": {
   "hash": "41666c07fd87dac521658aedc1b79c9ea4d7a5d9994e46c7981e1f3d1f57ca41"
  },
  "kernelspec": {
   "display_name": "Python 3.9.6 64-bit ('venv': venv)",
   "language": "python",
   "name": "python3"
  },
  "language_info": {
   "codemirror_mode": {
    "name": "ipython",
    "version": 3
   },
   "file_extension": ".py",
   "mimetype": "text/x-python",
   "name": "python",
   "nbconvert_exporter": "python",
   "pygments_lexer": "ipython3",
   "version": "3.9.6"
  },
  "orig_nbformat": 4
 },
 "nbformat": 4,
 "nbformat_minor": 2
}
