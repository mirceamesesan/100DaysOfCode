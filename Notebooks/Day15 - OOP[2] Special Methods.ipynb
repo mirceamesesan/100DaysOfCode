{
 "cells": [
  {
   "cell_type": "markdown",
   "metadata": {},
   "source": [
    "# OOP Special methods (Magic / Dunder)\n",
    "Used to emulate some built-in behavior. Implementing operate and overloading."
   ]
  },
  {
   "cell_type": "code",
   "execution_count": 179,
   "metadata": {},
   "outputs": [],
   "source": [
    "from datetime import date\n",
    "\n",
    "class Person:\n",
    "\n",
    "    def __init__(self, first, last, birth):\n",
    "        self.first = first\n",
    "        self.last = last\n",
    "        self.b_year, self.b_month, self.b_day = birth.split('-')\n",
    "        self.email = first + '.' + last + '@gmail.com'\n",
    "\n",
    "    def fullname(self):\n",
    "        return f\"{self.first} {self.last}\"\n",
    "    \n",
    "    def birth_day(self):\n",
    "        return date(year=int(self.b_year), month=int(self.b_month), day=int(self.b_day))\n",
    "    \n",
    "    def get_age(self):\n",
    "        today = date.today() \n",
    "        print(f\"Today : {today}\\nBirthday : {self.birth_day()}\")\n",
    "\n",
    "        age = (today - self.birth_day()).days / 365\n",
    "\n",
    "        return round(age)\n",
    "\n",
    "    def __repr__(self):\n",
    "        return f\"Person('{self.first}','{self.last}','{self.birth_day()}')\"\n",
    "\n",
    "    def __str__(self):\n",
    "        return f\"{self.fullname()} - {self.email}\"\n"
   ]
  },
  {
   "cell_type": "code",
   "execution_count": 180,
   "metadata": {},
   "outputs": [
    {
     "data": {
      "text/plain": [
       "Person('John','Smith','2003-03-12')"
      ]
     },
     "execution_count": 180,
     "metadata": {},
     "output_type": "execute_result"
    }
   ],
   "source": [
    "person = Person('John', 'Smith', '2003-03-12')\n",
    "person"
   ]
  },
  {
   "cell_type": "code",
   "execution_count": 181,
   "metadata": {},
   "outputs": [
    {
     "data": {
      "text/plain": [
       "datetime.date(2003, 3, 12)"
      ]
     },
     "execution_count": 181,
     "metadata": {},
     "output_type": "execute_result"
    }
   ],
   "source": [
    "person.birth_day()"
   ]
  },
  {
   "cell_type": "code",
   "execution_count": 182,
   "metadata": {},
   "outputs": [
    {
     "name": "stdout",
     "output_type": "stream",
     "text": [
      "Today : 2022-05-01\n",
      "Birthday : 2003-03-12\n"
     ]
    },
    {
     "data": {
      "text/plain": [
       "19"
      ]
     },
     "execution_count": 182,
     "metadata": {},
     "output_type": "execute_result"
    }
   ],
   "source": [
    "# not working properly yet\n",
    "person.get_age()"
   ]
  },
  {
   "cell_type": "markdown",
   "metadata": {},
   "source": [
    "### Most common special methods"
   ]
  },
  {
   "cell_type": "code",
   "execution_count": 183,
   "metadata": {},
   "outputs": [],
   "source": [
    "# __init__\n",
    "# __repr__\n",
    "# __str__"
   ]
  },
  {
   "cell_type": "markdown",
   "metadata": {},
   "source": [
    "### Arithmetic special methods\n",
    "\n",
    "Full list of special methods documentation\n",
    "\n",
    "https://docs.python.org/3/reference/datamodel.html#special-method-names"
   ]
  },
  {
   "cell_type": "code",
   "execution_count": 184,
   "metadata": {},
   "outputs": [
    {
     "data": {
      "text/plain": [
       "3"
      ]
     },
     "execution_count": 184,
     "metadata": {},
     "output_type": "execute_result"
    }
   ],
   "source": [
    "# using a __add__ special method\n",
    "1 + 2\n"
   ]
  },
  {
   "cell_type": "code",
   "execution_count": 185,
   "metadata": {},
   "outputs": [],
   "source": [
    "class Employee(Person):\n",
    "    \n",
    "    def __init__(self, first, last, birth, pay):\n",
    "        super().__init__(first, last, birth)\n",
    "        self.pay = pay\n",
    "    \n",
    "    def __repr__(self):\n",
    "        return f\"Employee('{self.first }', '{self.last}', '{self.pay}')\"\n",
    "\n",
    "    # Creating an arithmetic method to add pay of when adding employees objects\n",
    "    def __add__(self, other):\n",
    "        return self.pay + other.pay\n",
    "    \n",
    "    # Creating a len method on our employees\n",
    "    def __len__(self):\n",
    "        return len(self.fullname())\n"
   ]
  },
  {
   "cell_type": "code",
   "execution_count": 186,
   "metadata": {},
   "outputs": [
    {
     "data": {
      "text/plain": [
       "130000"
      ]
     },
     "execution_count": 186,
     "metadata": {},
     "output_type": "execute_result"
    }
   ],
   "source": [
    "emp_1 = Employee('George', 'Michael', '1987-03-12', 50_000)\n",
    "emp_2 = Employee('Joe', 'Other', '1987-03-12', 80_000)\n",
    "emp_1 + emp_2"
   ]
  },
  {
   "cell_type": "code",
   "execution_count": 187,
   "metadata": {},
   "outputs": [
    {
     "data": {
      "text/plain": [
       "14"
      ]
     },
     "execution_count": 187,
     "metadata": {},
     "output_type": "execute_result"
    }
   ],
   "source": [
    "len(emp_1)"
   ]
  },
  {
   "cell_type": "code",
   "execution_count": null,
   "metadata": {},
   "outputs": [],
   "source": []
  }
 ],
 "metadata": {
  "interpreter": {
   "hash": "aee8b7b246df8f9039afb4144a1f6fd8d2ca17a180786b69acc140d282b71a49"
  },
  "kernelspec": {
   "display_name": "Python 3",
   "language": "python",
   "name": "python3"
  },
  "language_info": {
   "codemirror_mode": {
    "name": "ipython",
    "version": 3
   },
   "file_extension": ".py",
   "mimetype": "text/x-python",
   "name": "python",
   "nbconvert_exporter": "python",
   "pygments_lexer": "ipython3",
   "version": "3.10.0"
  }
 },
 "nbformat": 4,
 "nbformat_minor": 2
}
