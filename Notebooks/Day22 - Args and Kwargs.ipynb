{
 "cells": [
  {
   "cell_type": "markdown",
   "metadata": {},
   "source": [
    "# Day 21 **args and **kwards\n",
    "Unpacking and packing args"
   ]
  },
  {
   "cell_type": "code",
   "execution_count": 10,
   "metadata": {},
   "outputs": [],
   "source": [
    "# Packing\n",
    "movies = [\"Shrek\", \"Home Alone\", \"Lion King\", \"Toy Story\", \"Up\", \"Cars\"]\n",
    "\n",
    "# an '*' in fron of the argument movie_3 will create a list with the remaining elements\n",
    "movie_1, movie_2, *movie_3 = movies"
   ]
  },
  {
   "cell_type": "code",
   "execution_count": 11,
   "metadata": {},
   "outputs": [
    {
     "data": {
      "text/plain": [
       "['Lion King', 'Toy Story', 'Up', 'Cars']"
      ]
     },
     "execution_count": 11,
     "metadata": {},
     "output_type": "execute_result"
    }
   ],
   "source": [
    "movie_3 "
   ]
  },
  {
   "cell_type": "code",
   "execution_count": 12,
   "metadata": {},
   "outputs": [],
   "source": [
    "# Unpacking\n",
    "# \n",
    "*movie_args, last_movie = movies"
   ]
  },
  {
   "cell_type": "code",
   "execution_count": 14,
   "metadata": {},
   "outputs": [
    {
     "data": {
      "text/plain": [
       "(['Shrek', 'Home Alone', 'Lion King', 'Toy Story', 'Up'], 'Cars')"
      ]
     },
     "execution_count": 14,
     "metadata": {},
     "output_type": "execute_result"
    }
   ],
   "source": [
    "movie_args, last_movie"
   ]
  },
  {
   "cell_type": "markdown",
   "metadata": {},
   "source": [
    "### *args **kargs\n",
    "Positional and Keyword arguments"
   ]
  },
  {
   "cell_type": "code",
   "execution_count": 19,
   "metadata": {},
   "outputs": [],
   "source": [
    "def foo(num_1, num_2):\n",
    "    '''\n",
    "    Positional arguments. Are arguments that are pased based on the order listed during the function definition.\n",
    "    Keyword arguments, you don't have to care about the order in which the parameters are listed.\n",
    "    '''\n",
    "    print(f\"Argument One: {num_1}\")\n",
    "    print(f\"Argument Two: {num_2}\")"
   ]
  },
  {
   "cell_type": "code",
   "execution_count": 20,
   "metadata": {},
   "outputs": [
    {
     "name": "stdout",
     "output_type": "stream",
     "text": [
      "Argument One: 3\n",
      "Argument Two: 4\n"
     ]
    }
   ],
   "source": [
    "# Positional arguments\n",
    "foo(3,4)"
   ]
  },
  {
   "cell_type": "code",
   "execution_count": 23,
   "metadata": {},
   "outputs": [
    {
     "name": "stdout",
     "output_type": "stream",
     "text": [
      "Argument One: 10\n",
      "Argument Two: 12\n"
     ]
    }
   ],
   "source": [
    "# Keyword arguments\n",
    "foo(num_1=10, num_2=12)"
   ]
  },
  {
   "cell_type": "code",
   "execution_count": 25,
   "metadata": {},
   "outputs": [
    {
     "name": "stdout",
     "output_type": "stream",
     "text": [
      "Argument One: 12\n",
      "Argument Two: 100\n"
     ]
    }
   ],
   "source": [
    "# Keyword arguments is ignoring the order of the defined parameters\n",
    "foo(num_2=100, num_1=12)"
   ]
  },
  {
   "cell_type": "markdown",
   "metadata": {},
   "source": [
    "### Exploring through examples"
   ]
  },
  {
   "cell_type": "code",
   "execution_count": 28,
   "metadata": {},
   "outputs": [],
   "source": [
    "# creating a function that will calculate the average of a list\n",
    "def average_number(num_list:list):\n",
    "    return (sum(num_list) / len(num_list))"
   ]
  },
  {
   "cell_type": "code",
   "execution_count": 29,
   "metadata": {},
   "outputs": [
    {
     "data": {
      "text/plain": [
       "12.666666666666666"
      ]
     },
     "execution_count": 29,
     "metadata": {},
     "output_type": "execute_result"
    }
   ],
   "source": [
    "numbers = [3, 4, 5, 19, 22, 23]\n",
    "average_number(numbers)"
   ]
  },
  {
   "cell_type": "code",
   "execution_count": 34,
   "metadata": {},
   "outputs": [],
   "source": [
    "# using '*' with positional arguments\n",
    "# taking as many arguments as we want\n",
    "def average_args(*args):\n",
    "    return (sum(args) / len(args))"
   ]
  },
  {
   "cell_type": "code",
   "execution_count": 36,
   "metadata": {},
   "outputs": [
    {
     "data": {
      "text/plain": [
       "31.666666666666668"
      ]
     },
     "execution_count": 36,
     "metadata": {},
     "output_type": "execute_result"
    }
   ],
   "source": [
    "# positonal arguments are tuples, immutable variable\n",
    "average_args(32, 43, 51, 10, 22, 32)"
   ]
  },
  {
   "cell_type": "code",
   "execution_count": 43,
   "metadata": {},
   "outputs": [
    {
     "data": {
      "text/plain": [
       "'Hello smart human'"
      ]
     },
     "execution_count": 43,
     "metadata": {},
     "output_type": "execute_result"
    }
   ],
   "source": [
    "# creating a function to concatinate strings\n",
    "def concatinate_words(word_1, word_2, word_3):\n",
    "    return \" \".join([word_1, word_2, word_3])\n",
    "\n",
    "concatinate_words(word_1=\"Hello\", word_2=\"smart\", word_3=\"human\")\n"
   ]
  },
  {
   "cell_type": "code",
   "execution_count": 57,
   "metadata": {},
   "outputs": [
    {
     "name": "stdout",
     "output_type": "stream",
     "text": [
      "{'word_1': 'Smith', 'word_2': 'Johnatan', 'word_3': 'Pyke'}\n"
     ]
    },
    {
     "data": {
      "text/plain": [
       "'Smith...Johnatan...Pyke'"
      ]
     },
     "execution_count": 57,
     "metadata": {},
     "output_type": "execute_result"
    }
   ],
   "source": [
    "# using the '**' and keyword arguments\n",
    "# keyword arguments will return a dictionary\n",
    "def concatinate_args(**kwargs):\n",
    "    print(kwargs)\n",
    "    return \"...\".join(kwargs.values())\n",
    "\n",
    "concatinate_args(word_1='Smith', word_2='Johnatan', word_3='Pyke')"
   ]
  },
  {
   "cell_type": "code",
   "execution_count": null,
   "metadata": {},
   "outputs": [],
   "source": []
  }
 ],
 "metadata": {
  "interpreter": {
   "hash": "aee8b7b246df8f9039afb4144a1f6fd8d2ca17a180786b69acc140d282b71a49"
  },
  "kernelspec": {
   "display_name": "Python 3.10.0 64-bit",
   "language": "python",
   "name": "python3"
  },
  "language_info": {
   "codemirror_mode": {
    "name": "ipython",
    "version": 3
   },
   "file_extension": ".py",
   "mimetype": "text/x-python",
   "name": "python",
   "nbconvert_exporter": "python",
   "pygments_lexer": "ipython3",
   "version": "3.10.0"
  },
  "orig_nbformat": 4
 },
 "nbformat": 4,
 "nbformat_minor": 2
}
