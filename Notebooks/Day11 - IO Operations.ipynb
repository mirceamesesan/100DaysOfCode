{
 "cells": [
  {
   "cell_type": "markdown",
   "metadata": {},
   "source": [
    "# Day 11\n",
    "Input Output (IO) Operations"
   ]
  },
  {
   "cell_type": "code",
   "execution_count": 84,
   "metadata": {},
   "outputs": [
    {
     "name": "stdout",
     "output_type": "stream",
     "text": [
      "res/animals.txt\n"
     ]
    }
   ],
   "source": [
    "# Open and Open modes\n",
    "animals = open('res/animals.txt', 'r')\n",
    "\n",
    "# r = open for read (default)\n",
    "# w = open for write, truncate\n",
    "# r+ = open for read/write\n",
    "# w+ = open for read/write, truncate\n",
    "# a+ = open for read/append\n",
    "print(animals.name)\n",
    "\n",
    "animals.close()"
   ]
  },
  {
   "cell_type": "markdown",
   "metadata": {},
   "source": [
    "### Opening with context manager\n",
    "This will help us to avoid errors when not closing the files"
   ]
  },
  {
   "cell_type": "code",
   "execution_count": 104,
   "metadata": {},
   "outputs": [
    {
     "name": "stdout",
     "output_type": "stream",
     "text": [
      "10\n",
      "dog\n",
      "cat\n",
      "tigre\n",
      "lion\n",
      "crocodile\n",
      "zebra\n",
      "elephant\n",
      "frog"
     ]
    }
   ],
   "source": [
    "# reading a file\n",
    "from time import sleep\n",
    "\n",
    "with open('res/animals.txt', 'r') as f:\n",
    "    size_to_read = 10\n",
    "\n",
    "    f_contents = f.read(size_to_read)\n",
    "\n",
    "    print(f.tell())\n",
    "\n",
    "    while len(f_contents) > 0:\n",
    "        print(f_contents, end='')\n",
    "        f_contents = f.read(size_to_read)\n",
    "        sleep(1)\n",
    "    \n",
    "    # for line in f:\n",
    "    #     print(line, end='')\n",
    "\n",
    "    \n"
   ]
  },
  {
   "cell_type": "code",
   "execution_count": 110,
   "metadata": {},
   "outputs": [],
   "source": [
    "# writing to a file\n",
    "with open('res/no_animals.txt', 'w') as f:\n",
    "    f.write('Not an animal, really?')"
   ]
  },
  {
   "cell_type": "code",
   "execution_count": 111,
   "metadata": {},
   "outputs": [],
   "source": [
    "# copy to a new file\n",
    "with open('res/animals.txt', 'r') as read_f:\n",
    "    with open('res/test_animals_copy.txt', 'w') as write_f:\n",
    "        for line in read_f:\n",
    "            write_f.write(line)\n",
    "\n",
    "    "
   ]
  },
  {
   "cell_type": "code",
   "execution_count": 116,
   "metadata": {},
   "outputs": [],
   "source": [
    "# opening and handling images\n",
    "# we will need to read bytes of the image\n",
    "# using the binary mode\n",
    "with open('res/atypical.png', 'rb') as rf:\n",
    "    with open('res/atypical_copy.png', 'wb') as wf:\n",
    "        size = 1024\n",
    "        rf_size = rf.read(size)\n",
    "\n",
    "        while len(rf_size) > 0:\n",
    "            wf.write(rf_size)\n",
    "            rf_size = rf.read(size)\n",
    "\n",
    "\n"
   ]
  },
  {
   "cell_type": "code",
   "execution_count": null,
   "metadata": {},
   "outputs": [],
   "source": []
  }
 ],
 "metadata": {
  "interpreter": {
   "hash": "397704579725e15f5c7cb49fe5f0341eb7531c82d19f2c29d197e8b64ab5776b"
  },
  "kernelspec": {
   "display_name": "Python 3.9.6 64-bit",
   "language": "python",
   "name": "python3"
  },
  "language_info": {
   "codemirror_mode": {
    "name": "ipython",
    "version": 3
   },
   "file_extension": ".py",
   "mimetype": "text/x-python",
   "name": "python",
   "nbconvert_exporter": "python",
   "pygments_lexer": "ipython3",
   "version": "3.9.6"
  },
  "orig_nbformat": 4
 },
 "nbformat": 4,
 "nbformat_minor": 2
}
