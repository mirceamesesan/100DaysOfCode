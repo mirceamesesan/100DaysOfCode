{
 "cells": [
  {
   "cell_type": "markdown",
   "metadata": {},
   "source": [
    "# Day 09\n",
    "Mutable vs Immutable Data Types"
   ]
  },
  {
   "cell_type": "markdown",
   "metadata": {},
   "source": [
    "### 01 Mutable data types\n",
    "Are those data type whose values can be changed in place.\n",
    "- Easy to change\n",
    "- State of the object can be modificed after it is created\n",
    "- They are not thread safe"
   ]
  },
  {
   "cell_type": "code",
   "execution_count": 6,
   "metadata": {},
   "outputs": [
    {
     "name": "stdout",
     "output_type": "stream",
     "text": [
      "['Red', 'Blue', 'Green']\n",
      "{'red': '#FF0000', 'blue': '#0000FF', 'green': '#00FF00'}\n",
      "{0, 'Smith', 'John'}\n"
     ]
    }
   ],
   "source": [
    "# Mutable data types\n",
    "# list\n",
    "colors = ['Red', 'Blue', 'Green']\n",
    "print(colors)\n",
    "\n",
    "# dictionary\n",
    "colors_hex = {'red': '#FF0000',\n",
    "              'blue': '#0000FF',\n",
    "              'green':'#00FF00'}\n",
    "print(colors_hex)\n",
    "\n",
    "# set\n",
    "entries = {'Smith', 0, 0, 'John', 'Smith'}\n",
    "print(entries)"
   ]
  },
  {
   "cell_type": "code",
   "execution_count": null,
   "metadata": {},
   "outputs": [],
   "source": []
  },
  {
   "cell_type": "markdown",
   "metadata": {},
   "source": [
    "### 02 Immutable data types\n",
    "Are thos data types whose values can never change their value in place\n",
    "- Expensive to change, as it involves creating a copy\n",
    "- State of the object cannot be modifiec once it is created\n",
    "- They are thread safe"
   ]
  },
  {
   "cell_type": "code",
   "execution_count": 7,
   "metadata": {},
   "outputs": [
    {
     "data": {
      "text/plain": [
       "tuple"
      ]
     },
     "execution_count": 7,
     "metadata": {},
     "output_type": "execute_result"
    }
   ],
   "source": [
    "# Imutable data types\n",
    "int\n",
    "float\n",
    "bool\n",
    "str\n",
    "tuple"
   ]
  }
 ],
 "metadata": {
  "interpreter": {
   "hash": "aee8b7b246df8f9039afb4144a1f6fd8d2ca17a180786b69acc140d282b71a49"
  },
  "kernelspec": {
   "display_name": "Python 3.10.0 64-bit",
   "language": "python",
   "name": "python3"
  },
  "language_info": {
   "codemirror_mode": {
    "name": "ipython",
    "version": 3
   },
   "file_extension": ".py",
   "mimetype": "text/x-python",
   "name": "python",
   "nbconvert_exporter": "python",
   "pygments_lexer": "ipython3",
   "version": "3.9.2"
  },
  "orig_nbformat": 4
 },
 "nbformat": 4,
 "nbformat_minor": 2
}
