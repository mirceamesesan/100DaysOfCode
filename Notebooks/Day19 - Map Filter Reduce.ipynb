{
 "cells": [
  {
   "cell_type": "markdown",
   "metadata": {},
   "source": [
    "# Day 19 Map, Filter, Reduce functions\n",
    "Applied to lists, analysing, filtering, combining. Streamline such tasks"
   ]
  },
  {
   "cell_type": "markdown",
   "metadata": {},
   "source": [
    "### Map Function"
   ]
  },
  {
   "cell_type": "code",
   "execution_count": 1,
   "metadata": {},
   "outputs": [],
   "source": [
    "# map function\n",
    "import math\n",
    "\n",
    "def area(r):\n",
    "    '''Area of a circle with radius <r>.'''\n",
    "    return math.pi * (r**2)\n",
    "\n",
    "radii = [2, 5, 6, 7, 8, 1.3]"
   ]
  },
  {
   "cell_type": "code",
   "execution_count": 7,
   "metadata": {},
   "outputs": [
    {
     "name": "stdout",
     "output_type": "stream",
     "text": [
      "[12.566370614359172, 78.53981633974483, 113.09733552923255, 153.93804002589985, 201.06192982974676, 5.3092915845667505]\n"
     ]
    },
    {
     "data": {
      "text/plain": [
       "[12.566370614359172,\n",
       " 78.53981633974483,\n",
       " 113.09733552923255,\n",
       " 153.93804002589985,\n",
       " 201.06192982974676,\n",
       " 5.3092915845667505]"
      ]
     },
     "execution_count": 7,
     "metadata": {},
     "output_type": "execute_result"
    }
   ],
   "source": [
    "# 1\n",
    "# Direct method\n",
    "areas = []\n",
    "\n",
    "for r in radii:\n",
    "    a = area(r)\n",
    "    areas.append(a)\n",
    "\n",
    "print(areas)\n",
    "\n",
    "# 2\n",
    "# Using map function\n",
    "# Will generate an iterator\n",
    "map(area, radii)\n",
    "list(map(area, radii))"
   ]
  },
  {
   "cell_type": "code",
   "execution_count": 9,
   "metadata": {},
   "outputs": [],
   "source": [
    "# How it works\n",
    "# Data collection (a1,a2,...)\n",
    "# Function, that we would like to apply to each piece of data\n",
    "# map(function, data):\n",
    "# Returns iterator over\n",
    "# f(a1), f(a2),..."
   ]
  },
  {
   "cell_type": "code",
   "execution_count": 19,
   "metadata": {},
   "outputs": [
    {
     "name": "stdout",
     "output_type": "stream",
     "text": [
      "[('Berlin', 84.2), ('Cairo', 96.8), ('Buenos Aires', 66.2), ('Loas Angeles', 78.80000000000001), ('Tokyo', 80.6)]\n"
     ]
    },
    {
     "data": {
      "text/plain": [
       "[('Berlin', 84.2),\n",
       " ('Cairo', 96.8),\n",
       " ('Buenos Aires', 66.2),\n",
       " ('Loas Angeles', 78.80000000000001),\n",
       " ('Tokyo', 80.6)]"
      ]
     },
     "execution_count": 19,
     "metadata": {},
     "output_type": "execute_result"
    }
   ],
   "source": [
    "# Example\n",
    "temps = [('Berlin', 29), ('Cairo', 36), ('Buenos Aires', 19), ('Loas Angeles', 26), ('Tokyo', 27)]\n",
    "\n",
    "# convertor function with lambda\n",
    "# celsius to fahrenheit : 9/5 * celsius + 32\n",
    "to_fahrenheit = lambda data: (data[0], data[1] * 1.8 + 32)\n",
    "print(list(map(to_fahrenheit, temps)))\n",
    "\n",
    "# convert to fahrenheit\n",
    "def convert(temp):\n",
    "    return (temp[0], (9/5) * temp[1] + 32)\n",
    "\n",
    "fahrenheit = map(convert, temps)\n",
    "list(fahrenheit)"
   ]
  },
  {
   "cell_type": "markdown",
   "metadata": {},
   "source": [
    "### Filter function\n",
    "Selecting certain pieces of data"
   ]
  },
  {
   "cell_type": "code",
   "execution_count": 21,
   "metadata": {},
   "outputs": [
    {
     "data": {
      "text/plain": [
       "2.183333333333333"
      ]
     },
     "execution_count": 21,
     "metadata": {},
     "output_type": "execute_result"
    }
   ],
   "source": [
    "import statistics\n",
    "\n",
    "data = [1.3, 2.7, 0.8, 4.1, 4.3, -0.1]\n",
    "average = statistics.mean(data)\n",
    "\n",
    "average"
   ]
  },
  {
   "cell_type": "code",
   "execution_count": 25,
   "metadata": {},
   "outputs": [
    {
     "data": {
      "text/plain": [
       "[2.7, 4.1, 4.3]"
      ]
     },
     "execution_count": 25,
     "metadata": {},
     "output_type": "execute_result"
    }
   ],
   "source": [
    "# using filter to select data greater than the average\n",
    "filter(lambda x: x > average, data)\n"
   ]
  },
  {
   "cell_type": "code",
   "execution_count": 26,
   "metadata": {},
   "outputs": [
    {
     "data": {
      "text/plain": [
       "[2.7, 4.1, 4.3]"
      ]
     },
     "execution_count": 26,
     "metadata": {},
     "output_type": "execute_result"
    }
   ],
   "source": [
    "list(filter(lambda x: x > average, data))"
   ]
  },
  {
   "cell_type": "code",
   "execution_count": 27,
   "metadata": {},
   "outputs": [
    {
     "data": {
      "text/plain": [
       "[1.3, 0.8, -0.1]"
      ]
     },
     "execution_count": 27,
     "metadata": {},
     "output_type": "execute_result"
    }
   ],
   "source": [
    "list(filter(lambda x: x < average, data))"
   ]
  },
  {
   "cell_type": "code",
   "execution_count": 32,
   "metadata": {},
   "outputs": [
    {
     "data": {
      "text/plain": [
       "['Argentina', 'Brazil', 'Chile', 'Colombia']"
      ]
     },
     "execution_count": 32,
     "metadata": {},
     "output_type": "execute_result"
    }
   ],
   "source": [
    "# Remove missing data\n",
    "countries = ['', 'Argentina', 'Brazil', '', '',   'Chile', '',  'Colombia']\n",
    "\n",
    "# removing empty strings\n",
    "list(filter(lambda x: x != '', countries))\n",
    "\n",
    "# or...\n",
    "list(filter(None, countries))"
   ]
  },
  {
   "cell_type": "markdown",
   "metadata": {},
   "source": [
    "### Reduce function\n",
    "Unusual, was demoted to functools as it is easier to use a for loops"
   ]
  },
  {
   "cell_type": "code",
   "execution_count": 34,
   "metadata": {},
   "outputs": [
    {
     "data": {
      "text/plain": [
       "39123000"
      ]
     },
     "execution_count": 34,
     "metadata": {},
     "output_type": "execute_result"
    }
   ],
   "source": [
    "from functools import reduce\n",
    "\n",
    "# multiply all numbers in a list\n",
    "data = [2, 3, 5, 6, 7, 3, 10, 23, 45]\n",
    "multiplier = lambda x, y: x * y\n",
    "\n",
    "reduce(multiplier, data)"
   ]
  },
  {
   "cell_type": "code",
   "execution_count": 35,
   "metadata": {},
   "outputs": [
    {
     "data": {
      "text/plain": [
       "39123000"
      ]
     },
     "execution_count": 35,
     "metadata": {},
     "output_type": "execute_result"
    }
   ],
   "source": [
    "# using a for loop\n",
    "product = 1\n",
    "for x in data:\n",
    "    product *= x\n",
    "\n",
    "product"
   ]
  }
 ],
 "metadata": {
  "interpreter": {
   "hash": "aee8b7b246df8f9039afb4144a1f6fd8d2ca17a180786b69acc140d282b71a49"
  },
  "kernelspec": {
   "display_name": "Python 3.10.0 64-bit",
   "language": "python",
   "name": "python3"
  },
  "language_info": {
   "codemirror_mode": {
    "name": "ipython",
    "version": 3
   },
   "file_extension": ".py",
   "mimetype": "text/x-python",
   "name": "python",
   "nbconvert_exporter": "python",
   "pygments_lexer": "ipython3",
   "version": "3.10.0"
  },
  "orig_nbformat": 4
 },
 "nbformat": 4,
 "nbformat_minor": 2
}
