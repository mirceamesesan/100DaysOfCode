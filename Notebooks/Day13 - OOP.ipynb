{
 "cells": [
  {
   "cell_type": "markdown",
   "metadata": {},
   "source": [
    "# Day 13\n",
    "Object Oriented Programming with Python\n",
    "\n",
    "Classes, help us re-use parts of functionalites and build upon them"
   ]
  },
  {
   "cell_type": "markdown",
   "metadata": {},
   "source": [
    "### Attributes and methods\n",
    "Methods is a function associated with a class"
   ]
  },
  {
   "cell_type": "code",
   "execution_count": 1,
   "metadata": {},
   "outputs": [],
   "source": [
    "# Classes\n",
    "# Attributes\n",
    "# Methods\n",
    "# Class inheritance"
   ]
  },
  {
   "cell_type": "markdown",
   "metadata": {},
   "source": [
    "### Creating a simple Class\n",
    "Class and instances of a class. Each referance to a class is an instance of that class"
   ]
  },
  {
   "cell_type": "code",
   "execution_count": 2,
   "metadata": {},
   "outputs": [],
   "source": [
    "class Employee:\n",
    "    '''\n",
    "    Attributes and methods\n",
    "    '''\n"
   ]
  },
  {
   "cell_type": "markdown",
   "metadata": {},
   "source": [
    "### Instance variables contain data that is unique to each instance"
   ]
  },
  {
   "cell_type": "code",
   "execution_count": 3,
   "metadata": {},
   "outputs": [
    {
     "name": "stdout",
     "output_type": "stream",
     "text": [
      "<__main__.Employee object at 0x10bc28ee0> <__main__.Employee object at 0x10bc28700>\n"
     ]
    }
   ],
   "source": [
    "emp_1 = Employee()\n",
    "emp_2 = Employee()\n",
    "\n",
    "# Instance variables\n",
    "emp_1.first = \"John\"\n",
    "emp_1.last = \"Smith\"\n",
    "emp_1.email = \"john.smith@gmail.com\"\n",
    "emp_1.pay = 50_000\n",
    "\n",
    "# each one of these instances of classes are unique\n",
    "print(emp_1, emp_2)"
   ]
  },
  {
   "cell_type": "markdown",
   "metadata": {},
   "source": [
    "# Basic Class"
   ]
  },
  {
   "cell_type": "code",
   "execution_count": 4,
   "metadata": {},
   "outputs": [],
   "source": [
    "class Employee:\n",
    "\n",
    "    # creating a class variable\n",
    "    raise_amount = 1.05\n",
    "    num_of_emps = 0\n",
    "\n",
    "    # creating methods within a class\n",
    "    # instance variables, 'self' + other arguments\n",
    "    def __init__(self, first, last, pay):\n",
    "        self.first = first\n",
    "        self.last = last\n",
    "        self.pay = pay\n",
    "        self.email =  (first + '.' + last + '@gmail.com').lower()\n",
    "\n",
    "        # keeping track of all employees\n",
    "        Employee.num_of_emps += 1\n",
    "\n",
    "    def fullname(self):\n",
    "        return f\"{self.first} {self.last}\"\n",
    "\n",
    "    def apply_raise(self):\n",
    "        self.pay = int(self.pay * self.raise_amount)\n",
    "    \n",
    "    # creating a class method\n",
    "    @classmethod\n",
    "    def set_raise_amt(cls, amount):\n",
    "        cls.raise_amount = amount\n",
    "\n",
    "    # alternative constructor\n",
    "    @classmethod\n",
    "    def from_string(cls, emp_str):\n",
    "        first, last, pay = emp_str.split('-')\n",
    "        return cls(first, last, pay)\n",
    "    \n",
    "\n",
    "    # creating a static method\n",
    "    @staticmethod\n",
    "    def is_workday(day):\n",
    "        if day.weekday() == 5 or day.weekday() == 6:\n",
    "            return False\n",
    "        return True\n",
    "        \n"
   ]
  },
  {
   "cell_type": "code",
   "execution_count": 5,
   "metadata": {},
   "outputs": [
    {
     "name": "stdout",
     "output_type": "stream",
     "text": [
      "50000\n",
      "52500\n"
     ]
    }
   ],
   "source": [
    "employee = Employee('Mike', 'Kyle', 50_000)\n",
    "print(employee.pay)\n",
    "employee.apply_raise()\n",
    "print(employee.pay)"
   ]
  },
  {
   "cell_type": "code",
   "execution_count": 6,
   "metadata": {},
   "outputs": [
    {
     "name": "stdout",
     "output_type": "stream",
     "text": [
      "None 60374\n",
      "{'first': 'Mike', 'last': 'Kyle', 'pay': 60374, 'email': 'mike.kyle@gmail.com', 'raise_amount': 1.15}\n"
     ]
    }
   ],
   "source": [
    "Employee.raise_amount = 1.05\n",
    "employee.raise_amount = 1.15\n",
    "print(employee.apply_raise(), employee.pay)\n",
    "print(employee.__dict__)\n"
   ]
  },
  {
   "cell_type": "code",
   "execution_count": 7,
   "metadata": {},
   "outputs": [
    {
     "data": {
      "text/plain": [
       "1"
      ]
     },
     "execution_count": 7,
     "metadata": {},
     "output_type": "execute_result"
    }
   ],
   "source": [
    "employee.num_of_emps"
   ]
  },
  {
   "cell_type": "markdown",
   "metadata": {},
   "source": [
    "### Regular methods, class methods and static methods\n",
    "Regular methods automatically takes the instance as a first argument 'self'\n",
    "\n",
    "Class methods instead takes the class as a first argument 'cls' for class\n",
    "\n",
    "Static methods don't pass anything automaticaly, they behave as regular methods"
   ]
  },
  {
   "cell_type": "code",
   "execution_count": 8,
   "metadata": {},
   "outputs": [
    {
     "data": {
      "text/plain": [
       "1.15"
      ]
     },
     "execution_count": 8,
     "metadata": {},
     "output_type": "execute_result"
    }
   ],
   "source": [
    "employee.raise_amount"
   ]
  },
  {
   "cell_type": "code",
   "execution_count": 9,
   "metadata": {},
   "outputs": [
    {
     "data": {
      "text/plain": [
       "1.15"
      ]
     },
     "execution_count": 9,
     "metadata": {},
     "output_type": "execute_result"
    }
   ],
   "source": [
    "employee.set_raise_amt(1.35)\n",
    "employee.raise_amount"
   ]
  },
  {
   "cell_type": "markdown",
   "metadata": {},
   "source": [
    "### Example of using the class methods"
   ]
  },
  {
   "cell_type": "code",
   "execution_count": 10,
   "metadata": {},
   "outputs": [
    {
     "data": {
      "text/plain": [
       "'luc.mckingle@gmail.com'"
      ]
     },
     "execution_count": 10,
     "metadata": {},
     "output_type": "execute_result"
    }
   ],
   "source": [
    "emp_str_1 = 'Luc-McKingle-80_000'\n",
    "emp_str_2 = 'Mike-George-93_000'\n",
    "\n",
    "first, last, pay = emp_str_1.split('-')\n",
    "new_emp = Employee(first, last, pay)\n",
    "new_emp.email\n"
   ]
  },
  {
   "cell_type": "code",
   "execution_count": 11,
   "metadata": {},
   "outputs": [
    {
     "data": {
      "text/plain": [
       "'mike.george@gmail.com'"
      ]
     },
     "execution_count": 11,
     "metadata": {},
     "output_type": "execute_result"
    }
   ],
   "source": [
    "# with the alternative constructor\n",
    "class_emp = Employee.from_string(emp_str_2)\n",
    "class_emp.email"
   ]
  },
  {
   "cell_type": "markdown",
   "metadata": {},
   "source": [
    "### Example of static class"
   ]
  },
  {
   "cell_type": "code",
   "execution_count": 12,
   "metadata": {},
   "outputs": [
    {
     "name": "stdout",
     "output_type": "stream",
     "text": [
      "True\n"
     ]
    }
   ],
   "source": [
    "import datetime\n",
    "my_date = datetime.date(2022, 4, 28)\n",
    "print(Employee.is_workday(my_date))"
   ]
  },
  {
   "cell_type": "markdown",
   "metadata": {},
   "source": [
    "# Class inheritance\n",
    "It always us to inherit attributes and methods from a parent class. Overwriting and complete new functionality for new classes\n",
    "\n",
    "https://www.youtube.com/watch?v=RSl87lqOXDE"
   ]
  },
  {
   "cell_type": "code",
   "execution_count": 13,
   "metadata": {},
   "outputs": [],
   "source": [
    "# Creating different types of employees\n",
    "# Developers and Managers\n",
    "# Employee inheritance of some attributes"
   ]
  },
  {
   "cell_type": "code",
   "execution_count": 14,
   "metadata": {},
   "outputs": [],
   "source": [
    "class Developer(Employee):\n",
    "    '''Inheriting from the Employee class'''\n",
    "    raise_amount = 1.35\n",
    "\n",
    "    def __init__(self, first, last, pay, prog_lang):\n",
    "        # letting some arguments be handled by the parent class\n",
    "        super().__init__(first, last, pay)\n",
    "        self.prog_lang = prog_lang\n"
   ]
  },
  {
   "cell_type": "code",
   "execution_count": 15,
   "metadata": {},
   "outputs": [
    {
     "name": "stdout",
     "output_type": "stream",
     "text": [
      "120000\n",
      "Python\n"
     ]
    }
   ],
   "source": [
    "dev_1 = Developer('Jack','Corey', 120_000, 'Python')\n",
    "dev_2 = Developer('Lumber','Smithsons', 115_000, 'Java')\n",
    "\n",
    "\n",
    "print(dev_1.pay)\n",
    "dev_1.apply_raise()\n",
    "print(dev_1.prog_lang)"
   ]
  },
  {
   "cell_type": "code",
   "execution_count": 24,
   "metadata": {},
   "outputs": [],
   "source": [
    "# creating the Manager class\n",
    "class Manager(Employee):\n",
    "    '''Inheritance from the Employee class'''\n",
    "    def __init__(self, first, last, pay, employees:list=None):\n",
    "        super().__init__(first, last, pay)\n",
    "        if employees is None:\n",
    "            self.employees = []\n",
    "        else:\n",
    "            self.employees = employees\n",
    "    \n",
    "\n",
    "    # add and remove from list of supervising\n",
    "    def add_emp(self, emp:Employee):\n",
    "        if emp not in self.employees:\n",
    "            self.employees.append(emp)\n",
    "\n",
    "    \n",
    "    # remove from the list\n",
    "    def remove_emp(self, emp:Employee):\n",
    "        if emp in self.employees:\n",
    "            self.employees.remove(emp)\n",
    "        \n",
    "    \n",
    "    # print all employees\n",
    "    def print_emp(self):\n",
    "        for emp in self.employees:\n",
    "            print(emp.fullname())\n"
   ]
  },
  {
   "cell_type": "code",
   "execution_count": 28,
   "metadata": {},
   "outputs": [
    {
     "name": "stdout",
     "output_type": "stream",
     "text": [
      "Jack Corey\n",
      "None\n",
      "Jack Corey\n",
      "Lumber Smithsons\n",
      "Lumber Smithsons\n"
     ]
    },
    {
     "data": {
      "text/plain": [
       "[]"
      ]
     },
     "execution_count": 28,
     "metadata": {},
     "output_type": "execute_result"
    }
   ],
   "source": [
    "man_1 = Manager('Maria', 'Bell', 92_000, [dev_1])\n",
    "print(man_1.print_emp())\n",
    "man_1.add_emp(dev_2)\n",
    "man_1.print_emp()\n",
    "man_1.remove_emp(dev_1)\n",
    "man_1.print_emp()\n",
    "\n",
    "man_2 = Manager('Rachel', 'Bell', 120_000)\n",
    "man_2.employees"
   ]
  },
  {
   "cell_type": "markdown",
   "metadata": {},
   "source": [
    "### using isinstance"
   ]
  },
  {
   "cell_type": "code",
   "execution_count": 35,
   "metadata": {},
   "outputs": [
    {
     "name": "stdout",
     "output_type": "stream",
     "text": [
      "True\n",
      "True\n",
      "False\n",
      "False\n"
     ]
    }
   ],
   "source": [
    "print(isinstance(man_1, Manager))\n",
    "print(issubclass(Developer, Employee))\n",
    "\n",
    "print(isinstance(man_2, Developer))\n",
    "print(issubclass(Developer, Manager))"
   ]
  },
  {
   "cell_type": "markdown",
   "metadata": {},
   "source": [
    "# Special and Magic/Dunder methods\n",
    "\n",
    "...\n",
    "\n",
    "https://www.youtube.com/watch?v=3ohzBxoFHAY\n"
   ]
  },
  {
   "cell_type": "code",
   "execution_count": null,
   "metadata": {},
   "outputs": [],
   "source": []
  }
 ],
 "metadata": {
  "interpreter": {
   "hash": "aee8b7b246df8f9039afb4144a1f6fd8d2ca17a180786b69acc140d282b71a49"
  },
  "kernelspec": {
   "display_name": "Python 3.10.0 64-bit",
   "language": "python",
   "name": "python3"
  },
  "language_info": {
   "codemirror_mode": {
    "name": "ipython",
    "version": 3
   },
   "file_extension": ".py",
   "mimetype": "text/x-python",
   "name": "python",
   "nbconvert_exporter": "python",
   "pygments_lexer": "ipython3",
   "version": "3.10.0"
  },
  "orig_nbformat": 4
 },
 "nbformat": 4,
 "nbformat_minor": 2
}
