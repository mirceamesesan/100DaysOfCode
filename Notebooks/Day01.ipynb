{
 "cells": [
  {
   "cell_type": "markdown",
   "metadata": {},
   "source": [
    "# Day 01\n",
    "Today I am planning to quickly touch Python's basics and fundamentals."
   ]
  },
  {
   "cell_type": "code",
   "execution_count": 1,
   "metadata": {},
   "outputs": [
    {
     "name": "stdout",
     "output_type": "stream",
     "text": [
      "<class 'int'> <class 'float'> <class 'str'> <class 'bool'>\n"
     ]
    }
   ],
   "source": [
    "# Defining simple and most common variables\n",
    "count = 10\n",
    "rating = 4.55\n",
    "name = 'Smith'\n",
    "is_working = True\n",
    "\n",
    "# Checking the type of each variable\n",
    "print(type(count), type(rating), type(name), type(is_working))"
   ]
  },
  {
   "cell_type": "markdown",
   "metadata": {},
   "source": [
    "Make sure that your variables are descriptive enough."
   ]
  },
  {
   "cell_type": "code",
   "execution_count": 2,
   "metadata": {},
   "outputs": [
    {
     "name": "stdout",
     "output_type": "stream",
     "text": [
      "7.3\n"
     ]
    }
   ],
   "source": [
    "student_name = \"John\"\n",
    "rank = 3.65\n",
    "multiplier = 2\n",
    "\n",
    "# It is easier to read the code when variables are descriptive\n",
    "total = rank * multiplier\n",
    "print(total)"
   ]
  },
  {
   "cell_type": "code",
   "execution_count": 3,
   "metadata": {},
   "outputs": [
    {
     "name": "stdout",
     "output_type": "stream",
     "text": [
      "10 10 10\n"
     ]
    }
   ],
   "source": [
    "# Assigning a single value to multiple variables\n",
    "a = b = c = 10\n",
    "print(a, b, c)"
   ]
  },
  {
   "cell_type": "code",
   "execution_count": 4,
   "metadata": {},
   "outputs": [
    {
     "name": "stdout",
     "output_type": "stream",
     "text": [
      "John 4.33 32\n"
     ]
    }
   ],
   "source": [
    "# Declaring multiple variables at once\n",
    "name, rank, age = \"John\", 4.33, 32\n",
    "print(name, rank, age)"
   ]
  },
  {
   "cell_type": "markdown",
   "metadata": {},
   "source": [
    "Global variables are defined and declared outside a function, when we need them inside a function."
   ]
  },
  {
   "cell_type": "code",
   "execution_count": 5,
   "metadata": {},
   "outputs": [
    {
     "name": "stdout",
     "output_type": "stream",
     "text": [
      "Smith 4.5\n"
     ]
    }
   ],
   "source": [
    "def get_grade(name):\n",
    "    grade = 4.5\n",
    "    print(name, grade)\n",
    "\n",
    "# Variable declared outside a function is a global variable\n",
    "name = \"Smith\"\n",
    "\n",
    "get_grade(name)"
   ]
  },
  {
   "cell_type": "markdown",
   "metadata": {},
   "source": [
    "We can create a global variable inside a function, using the 'global' keyword."
   ]
  },
  {
   "cell_type": "code",
   "execution_count": 6,
   "metadata": {},
   "outputs": [
    {
     "name": "stdout",
     "output_type": "stream",
     "text": [
      "14.5\n"
     ]
    }
   ],
   "source": [
    "# the variable 'grade' from the get_grade function cannot be accessed outside the function\n",
    "def get_grade():\n",
    "    # creating the grade variable global\n",
    "    global grade\n",
    "    grade = 4.5\n",
    "\n",
    "get_grade()\n",
    "\n",
    "# But if we've declared it as a global variable, now we can access it\n",
    "print(grade + 10)"
   ]
  },
  {
   "cell_type": "markdown",
   "metadata": {},
   "source": [
    "You can always delete a variable"
   ]
  },
  {
   "cell_type": "code",
   "execution_count": 7,
   "metadata": {},
   "outputs": [
    {
     "name": "stdout",
     "output_type": "stream",
     "text": [
      "The variable you does not exist anymore\n"
     ]
    }
   ],
   "source": [
    "grade = 10.3\n",
    "\n",
    "# Deleting the variable\n",
    "del grade\n",
    "\n",
    "try:\n",
    "    print(grade)\n",
    "except NameError:\n",
    "    print('The variable you does not exist anymore')\n"
   ]
  },
  {
   "cell_type": "markdown",
   "metadata": {},
   "source": [
    "### Variable Types\n",
    "There are multiple data types that we can store inside variables. Here's a list that we will get in depth in altare chapter.\n",
    "- Numeric\n",
    "- String\n",
    "- Boolean\n",
    "- List\n",
    "- Tuple\n",
    "- Set\n",
    "- Dictionary"
   ]
  },
  {
   "cell_type": "code",
   "execution_count": 8,
   "metadata": {},
   "outputs": [
    {
     "name": "stdout",
     "output_type": "stream",
     "text": [
      "1 <class 'int'>\n",
      "3.4 <class 'float'>\n",
      "John <class 'str'>\n",
      "True <class 'bool'>\n",
      "[32, 33, 12, 24] <class 'list'>\n",
      "(10, 20, 30, 40) <class 'tuple'>\n",
      "{34, 'Smith', 23, 55} <class 'set'>\n",
      "{'user': 'smith33', 'password': 'Password#@$%@', 'user_id': 12345} <class 'dict'>\n"
     ]
    }
   ],
   "source": [
    "# Numberic\n",
    "a = 1\n",
    "b = 3.4\n",
    "print(a, type(a))\n",
    "print(b, type(b))\n",
    "\n",
    "# String\n",
    "name = 'John'\n",
    "print(name, type(name))\n",
    "\n",
    "# Boolean\n",
    "is_working = True\n",
    "print(is_working, type(is_working))\n",
    "\n",
    "# List\n",
    "age_groups = [32, 33, 12, 24]\n",
    "print(age_groups, type(age_groups))\n",
    "\n",
    "# Tuple. A tuple is more rigid than a list\n",
    "matrix = (10, 20, 30, 40)\n",
    "print(matrix, type(matrix))\n",
    "\n",
    "# Set. Note that a set will not store duplicates\n",
    "data_set = { 23, 34, 34, 55, 'Smith'}\n",
    "print(data_set, type(data_set))\n",
    "\n",
    "# Dictionary\n",
    "config = {\n",
    "    'user': 'smith33',\n",
    "    'password': 'Password#@$%@',\n",
    "    'user_id': 12345,\n",
    "}\n",
    "print(config, type(config))"
   ]
  },
  {
   "cell_type": "code",
   "execution_count": null,
   "metadata": {},
   "outputs": [],
   "source": []
  }
 ],
 "metadata": {
  "interpreter": {
   "hash": "41666c07fd87dac521658aedc1b79c9ea4d7a5d9994e46c7981e1f3d1f57ca41"
  },
  "kernelspec": {
   "display_name": "Python 3.9.6 64-bit ('venv': venv)",
   "language": "python",
   "name": "python3"
  },
  "language_info": {
   "codemirror_mode": {
    "name": "ipython",
    "version": 3
   },
   "file_extension": ".py",
   "mimetype": "text/x-python",
   "name": "python",
   "nbconvert_exporter": "python",
   "pygments_lexer": "ipython3",
   "version": "3.9.6"
  },
  "orig_nbformat": 4
 },
 "nbformat": 4,
 "nbformat_minor": 2
}
