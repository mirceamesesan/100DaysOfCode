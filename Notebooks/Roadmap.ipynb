{
 "cells": [
  {
   "cell_type": "markdown",
   "metadata": {},
   "source": [
    "# 100 Days of Code\n",
    "Or how I've started some of my first digital projects."
   ]
  },
  {
   "cell_type": "markdown",
   "metadata": {},
   "source": [
    "## Roadmap Guidelines\n",
    "https://www.youtube.com/watch?v=p15xzjzR9j0"
   ]
  },
  {
   "cell_type": "markdown",
   "metadata": {},
   "source": []
  },
  {
   "cell_type": "code",
   "execution_count": 5,
   "metadata": {},
   "outputs": [],
   "source": [
    "import pandas as pd\n",
    "import matplotlib.pyplot as plt\n",
    "import numpy as np"
   ]
  },
  {
   "cell_type": "code",
   "execution_count": 49,
   "metadata": {},
   "outputs": [],
   "source": [
    "random_num = np.random.rand(5,10)"
   ]
  },
  {
   "cell_type": "code",
   "execution_count": 50,
   "metadata": {},
   "outputs": [
    {
     "data": {
      "text/html": [
       "<div>\n",
       "<style scoped>\n",
       "    .dataframe tbody tr th:only-of-type {\n",
       "        vertical-align: middle;\n",
       "    }\n",
       "\n",
       "    .dataframe tbody tr th {\n",
       "        vertical-align: top;\n",
       "    }\n",
       "\n",
       "    .dataframe thead th {\n",
       "        text-align: right;\n",
       "    }\n",
       "</style>\n",
       "<table border=\"1\" class=\"dataframe\">\n",
       "  <thead>\n",
       "    <tr style=\"text-align: right;\">\n",
       "      <th></th>\n",
       "      <th>0</th>\n",
       "      <th>1</th>\n",
       "      <th>2</th>\n",
       "      <th>3</th>\n",
       "      <th>4</th>\n",
       "      <th>5</th>\n",
       "      <th>6</th>\n",
       "      <th>7</th>\n",
       "      <th>8</th>\n",
       "      <th>9</th>\n",
       "    </tr>\n",
       "  </thead>\n",
       "  <tbody>\n",
       "    <tr>\n",
       "      <th>0</th>\n",
       "      <td>0.587638</td>\n",
       "      <td>0.110975</td>\n",
       "      <td>0.378866</td>\n",
       "      <td>0.127153</td>\n",
       "      <td>0.223631</td>\n",
       "      <td>0.859548</td>\n",
       "      <td>0.063478</td>\n",
       "      <td>0.484358</td>\n",
       "      <td>0.981887</td>\n",
       "      <td>0.031784</td>\n",
       "    </tr>\n",
       "    <tr>\n",
       "      <th>1</th>\n",
       "      <td>0.329402</td>\n",
       "      <td>0.201843</td>\n",
       "      <td>0.109949</td>\n",
       "      <td>0.881296</td>\n",
       "      <td>0.054190</td>\n",
       "      <td>0.597520</td>\n",
       "      <td>0.517938</td>\n",
       "      <td>0.702879</td>\n",
       "      <td>0.134526</td>\n",
       "      <td>0.291544</td>\n",
       "    </tr>\n",
       "    <tr>\n",
       "      <th>2</th>\n",
       "      <td>0.908967</td>\n",
       "      <td>0.143828</td>\n",
       "      <td>0.196208</td>\n",
       "      <td>0.670512</td>\n",
       "      <td>0.235242</td>\n",
       "      <td>0.572297</td>\n",
       "      <td>0.646947</td>\n",
       "      <td>0.530222</td>\n",
       "      <td>0.773874</td>\n",
       "      <td>0.830834</td>\n",
       "    </tr>\n",
       "    <tr>\n",
       "      <th>3</th>\n",
       "      <td>0.477100</td>\n",
       "      <td>0.996575</td>\n",
       "      <td>0.546209</td>\n",
       "      <td>0.841618</td>\n",
       "      <td>0.764976</td>\n",
       "      <td>0.658438</td>\n",
       "      <td>0.405162</td>\n",
       "      <td>0.853703</td>\n",
       "      <td>0.206108</td>\n",
       "      <td>0.351393</td>\n",
       "    </tr>\n",
       "    <tr>\n",
       "      <th>4</th>\n",
       "      <td>0.266431</td>\n",
       "      <td>0.566146</td>\n",
       "      <td>0.291010</td>\n",
       "      <td>0.919879</td>\n",
       "      <td>0.809144</td>\n",
       "      <td>0.539859</td>\n",
       "      <td>0.505544</td>\n",
       "      <td>0.082464</td>\n",
       "      <td>0.244231</td>\n",
       "      <td>0.017228</td>\n",
       "    </tr>\n",
       "  </tbody>\n",
       "</table>\n",
       "</div>"
      ],
      "text/plain": [
       "          0         1         2         3         4         5         6  \\\n",
       "0  0.587638  0.110975  0.378866  0.127153  0.223631  0.859548  0.063478   \n",
       "1  0.329402  0.201843  0.109949  0.881296  0.054190  0.597520  0.517938   \n",
       "2  0.908967  0.143828  0.196208  0.670512  0.235242  0.572297  0.646947   \n",
       "3  0.477100  0.996575  0.546209  0.841618  0.764976  0.658438  0.405162   \n",
       "4  0.266431  0.566146  0.291010  0.919879  0.809144  0.539859  0.505544   \n",
       "\n",
       "          7         8         9  \n",
       "0  0.484358  0.981887  0.031784  \n",
       "1  0.702879  0.134526  0.291544  \n",
       "2  0.530222  0.773874  0.830834  \n",
       "3  0.853703  0.206108  0.351393  \n",
       "4  0.082464  0.244231  0.017228  "
      ]
     },
     "execution_count": 50,
     "metadata": {},
     "output_type": "execute_result"
    }
   ],
   "source": [
    "random_num.shape\n",
    "df = pd.DataFrame(random_num)\n",
    "df"
   ]
  },
  {
   "cell_type": "code",
   "execution_count": null,
   "metadata": {},
   "outputs": [],
   "source": []
  },
  {
   "cell_type": "code",
   "execution_count": null,
   "metadata": {},
   "outputs": [],
   "source": []
  }
 ],
 "metadata": {
  "interpreter": {
   "hash": "aee8b7b246df8f9039afb4144a1f6fd8d2ca17a180786b69acc140d282b71a49"
  },
  "kernelspec": {
   "display_name": "Python 3.9.2 64-bit",
   "language": "python",
   "name": "python3"
  },
  "language_info": {
   "codemirror_mode": {
    "name": "ipython",
    "version": 3
   },
   "file_extension": ".py",
   "mimetype": "text/x-python",
   "name": "python",
   "nbconvert_exporter": "python",
   "pygments_lexer": "ipython3",
   "version": "3.9.6"
  },
  "orig_nbformat": 4
 },
 "nbformat": 4,
 "nbformat_minor": 2
}
