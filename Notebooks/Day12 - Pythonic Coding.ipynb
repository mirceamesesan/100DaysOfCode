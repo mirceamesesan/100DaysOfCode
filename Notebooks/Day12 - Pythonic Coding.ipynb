{
 "cells": [
  {
   "cell_type": "markdown",
   "metadata": {},
   "source": [
    "# Day 12\n",
    "Pythonic Coding. Pythonic is following convensions and coding styles of the python language in order to write clean and readeble"
   ]
  },
  {
   "cell_type": "markdown",
   "metadata": {},
   "source": [
    "### Duck Typing"
   ]
  },
  {
   "cell_type": "code",
   "execution_count": 8,
   "metadata": {},
   "outputs": [],
   "source": [
    "class Duck:\n",
    "\n",
    "    def quack(self):\n",
    "        print('Quack, quack!')\n",
    "    \n",
    "    def fly(self):\n",
    "        print('Flip, flap!')\n",
    "\n",
    "class Person:\n",
    "\n",
    "    def quack(self):\n",
    "        print('I am quacking like a duck')\n",
    "    \n",
    "    def fly(self):\n",
    "        print('I am flying with my arms')\n",
    "\n",
    "def quack_and_fly(thing):\n",
    "    thing.quack()\n",
    "    thing.fly()\n",
    "    print('')\n",
    "\n",
    "duck = Duck()\n",
    "person = Person()"
   ]
  },
  {
   "cell_type": "code",
   "execution_count": 9,
   "metadata": {},
   "outputs": [
    {
     "name": "stdout",
     "output_type": "stream",
     "text": [
      "Quack, quack!\n",
      "Flip, flap!\n",
      "\n",
      "I am quacking like a duck\n",
      "I am flying with my arms\n",
      "\n"
     ]
    }
   ],
   "source": [
    "quack_and_fly(duck)\n",
    "quack_and_fly(person)"
   ]
  },
  {
   "cell_type": "markdown",
   "metadata": {},
   "source": [
    "### EAFP\n",
    "Easier to ask forgiveness than permission"
   ]
  },
  {
   "cell_type": "code",
   "execution_count": 14,
   "metadata": {},
   "outputs": [
    {
     "name": "stdout",
     "output_type": "stream",
     "text": [
      "Quack, quack!\n",
      "Flip, flap!\n"
     ]
    }
   ],
   "source": [
    "# Look before you leap LBYL\n",
    "# Non-pythonic version\n",
    "def quacks_and_flies(thing):\n",
    "    if hasattr(thing, 'quack'):\n",
    "        if callable(thing.quack):\n",
    "            thing.quack()\n",
    "    \n",
    "    if hasattr(thing, 'fly'):\n",
    "        if callable(thing.fly):\n",
    "            thing.fly()\n",
    "\n",
    "quacks_and_flies(duck)\n",
    "    "
   ]
  },
  {
   "cell_type": "code",
   "execution_count": 17,
   "metadata": {},
   "outputs": [
    {
     "name": "stdout",
     "output_type": "stream",
     "text": [
      "Quack, quack!\n",
      "Flip, flap!\n"
     ]
    }
   ],
   "source": [
    "# EAFP\n",
    "# Pythonic Version\n",
    "def quacks_and_flies_right(thing):\n",
    "    try:\n",
    "        thing.quack()\n",
    "        thing.fly()\n",
    "    except AttributeError as e:\n",
    "        print(e)\n",
    "\n",
    "quacks_and_flies_right(duck)"
   ]
  },
  {
   "cell_type": "markdown",
   "metadata": {},
   "source": [
    "### Examples"
   ]
  },
  {
   "cell_type": "code",
   "execution_count": 27,
   "metadata": {},
   "outputs": [
    {
     "name": "stdout",
     "output_type": "stream",
     "text": [
      "Missing person element.\n",
      "Missing 'email' key from the dictionary.\n"
     ]
    }
   ],
   "source": [
    "# person = {'name': 'John', 'age': 32, 'email':'john@gmail.com'}\n",
    "person = {'name': 'John', 'age': 32}\n",
    "\n",
    "# LBYL\n",
    "# Non Pythonic version\n",
    "if 'name' in person and 'age' in person and 'email' in person:\n",
    "    print(\"Person {name}, of age {age} has the email {email}\".format(**person))\n",
    "else:\n",
    "    print(\"Missing person element.\")\n",
    "\n",
    "# EAFP\n",
    "# Pythonic version\n",
    "try:\n",
    "    print(\"Person {name}, of age {age} has the email {email}\".format(**person))\n",
    "except KeyError as e:\n",
    "    print(f'Missing {e} key from the dictionary.')"
   ]
  },
  {
   "cell_type": "code",
   "execution_count": 35,
   "metadata": {},
   "outputs": [
    {
     "name": "stdout",
     "output_type": "stream",
     "text": [
      "List out of index.\n",
      "Missing index value. Error raise: 'list index out of range'\n"
     ]
    }
   ],
   "source": [
    "# Grab a certain index from a list\n",
    "# my_list = [1, 4, 3, 53, 23, 66, 200]\n",
    "my_list = [1, 4, 3]\n",
    "\n",
    "# Non Pythonic way\n",
    "if len(my_list) >= 6:\n",
    "    print(my_list[5])\n",
    "else:\n",
    "    print('List out of index.')\n",
    "\n",
    "\n",
    "# Pythonic way\n",
    "try:\n",
    "    print(my_list[5])\n",
    "except IndexError as e:\n",
    "    print(f\"Missing index value. Error raised: '{e}'\")"
   ]
  },
  {
   "cell_type": "markdown",
   "metadata": {},
   "source": [
    "## Idiomatic Python\n",
    "Watched over video: https://www.youtube.com/watch?v=LtKl2JRASlM"
   ]
  },
  {
   "cell_type": "code",
   "execution_count": 43,
   "metadata": {},
   "outputs": [
    {
     "name": "stdout",
     "output_type": "stream",
     "text": [
      "The Zen of Python, by Tim Peters\n",
      "\n",
      "Beautiful is better than ugly.\n",
      "Explicit is better than implicit.\n",
      "Simple is better than complex.\n",
      "Complex is better than complicated.\n",
      "Flat is better than nested.\n",
      "Sparse is better than dense.\n",
      "Readability counts.\n",
      "Special cases aren't special enough to break the rules.\n",
      "Although practicality beats purity.\n",
      "Errors should never pass silently.\n",
      "Unless explicitly silenced.\n",
      "In the face of ambiguity, refuse the temptation to guess.\n",
      "There should be one-- and preferably only one --obvious way to do it.\n",
      "Although that way may not be obvious at first unless you're Dutch.\n",
      "Now is better than never.\n",
      "Although never is often better than *right* now.\n",
      "If the implementation is hard to explain, it's a bad idea.\n",
      "If the implementation is easy to explain, it may be a good idea.\n",
      "Namespaces are one honking great idea -- let's do more of those!\n"
     ]
    }
   ],
   "source": [
    "# zen of python\n",
    "import this"
   ]
  },
  {
   "cell_type": "code",
   "execution_count": 46,
   "metadata": {},
   "outputs": [
    {
     "name": "stdout",
     "output_type": "stream",
     "text": [
      "Hello\n",
      "World\n"
     ]
    }
   ],
   "source": [
    "# script setup and statements\n",
    "\n",
    "# One statement per line\n",
    "print('Hello')\n",
    "print('World')\n",
    "\n",
    "# shebang code used to define the type of python file\n",
    "#!/usr/bin/env python3"
   ]
  },
  {
   "cell_type": "code",
   "execution_count": 38,
   "metadata": {},
   "outputs": [],
   "source": [
    "# truth value testing"
   ]
  },
  {
   "cell_type": "code",
   "execution_count": 39,
   "metadata": {},
   "outputs": [],
   "source": [
    "# built-in functions and methods"
   ]
  },
  {
   "cell_type": "code",
   "execution_count": 40,
   "metadata": {},
   "outputs": [],
   "source": [
    "# in-place variable swaping"
   ]
  },
  {
   "cell_type": "code",
   "execution_count": 41,
   "metadata": {},
   "outputs": [],
   "source": [
    "\n",
    "# dictionary default values\n"
   ]
  },
  {
   "cell_type": "code",
   "execution_count": 42,
   "metadata": {},
   "outputs": [],
   "source": [
    "# the DRY principle"
   ]
  },
  {
   "cell_type": "code",
   "execution_count": null,
   "metadata": {},
   "outputs": [],
   "source": [
    "# idiomatic for loops"
   ]
  }
 ],
 "metadata": {
  "interpreter": {
   "hash": "aee8b7b246df8f9039afb4144a1f6fd8d2ca17a180786b69acc140d282b71a49"
  },
  "kernelspec": {
   "display_name": "Python 3.10.0 64-bit",
   "language": "python",
   "name": "python3"
  },
  "language_info": {
   "codemirror_mode": {
    "name": "ipython",
    "version": 3
   },
   "file_extension": ".py",
   "mimetype": "text/x-python",
   "name": "python",
   "nbconvert_exporter": "python",
   "pygments_lexer": "ipython3",
   "version": "3.9.6"
  },
  "orig_nbformat": 4
 },
 "nbformat": 4,
 "nbformat_minor": 2
}
