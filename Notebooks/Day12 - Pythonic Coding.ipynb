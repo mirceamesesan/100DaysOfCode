{
 "cells": [
  {
   "cell_type": "markdown",
   "metadata": {},
   "source": [
    "# Day 12\n",
    "Pythonic Coding. Pythonic is following convensions and coding styles of the python language in order to write clean and readeble"
   ]
  },
  {
   "cell_type": "markdown",
   "metadata": {},
   "source": [
    "### Duck Typing"
   ]
  },
  {
   "cell_type": "code",
   "execution_count": 46,
   "metadata": {},
   "outputs": [],
   "source": [
    "class Duck:\n",
    "\n",
    "    def quack(self):\n",
    "        print('Quack, quack!')\n",
    "    \n",
    "    def fly(self):\n",
    "        print('Flip, flap!')\n",
    "\n",
    "class Person:\n",
    "\n",
    "    def quack(self):\n",
    "        print('I am quacking like a duck')\n",
    "    \n",
    "    def fly(self):\n",
    "        print('I am flying with my arms')\n",
    "\n",
    "def quack_and_fly(thing):\n",
    "    thing.quack()\n",
    "    thing.fly()\n",
    "    print('')\n",
    "\n",
    "duck = Duck()\n",
    "person = Person()"
   ]
  },
  {
   "cell_type": "code",
   "execution_count": 47,
   "metadata": {},
   "outputs": [
    {
     "name": "stdout",
     "output_type": "stream",
     "text": [
      "Quack, quack!\n",
      "Flip, flap!\n",
      "\n",
      "I am quacking like a duck\n",
      "I am flying with my arms\n",
      "\n"
     ]
    }
   ],
   "source": [
    "quack_and_fly(duck)\n",
    "quack_and_fly(person)"
   ]
  },
  {
   "cell_type": "markdown",
   "metadata": {},
   "source": [
    "### EAFP\n",
    "Easier to ask forgiveness than permission"
   ]
  },
  {
   "cell_type": "code",
   "execution_count": 48,
   "metadata": {},
   "outputs": [
    {
     "name": "stdout",
     "output_type": "stream",
     "text": [
      "Quack, quack!\n",
      "Flip, flap!\n"
     ]
    }
   ],
   "source": [
    "# Look before you leap LBYL\n",
    "# Non-pythonic version\n",
    "def quacks_and_flies(thing):\n",
    "    if hasattr(thing, 'quack'):\n",
    "        if callable(thing.quack):\n",
    "            thing.quack()\n",
    "    \n",
    "    if hasattr(thing, 'fly'):\n",
    "        if callable(thing.fly):\n",
    "            thing.fly()\n",
    "\n",
    "quacks_and_flies(duck)\n",
    "    "
   ]
  },
  {
   "cell_type": "code",
   "execution_count": 49,
   "metadata": {},
   "outputs": [
    {
     "name": "stdout",
     "output_type": "stream",
     "text": [
      "Quack, quack!\n",
      "Flip, flap!\n"
     ]
    }
   ],
   "source": [
    "# EAFP\n",
    "# Pythonic Version\n",
    "def quacks_and_flies_right(thing):\n",
    "    try:\n",
    "        thing.quack()\n",
    "        thing.fly()\n",
    "    except AttributeError as e:\n",
    "        print(e)\n",
    "\n",
    "quacks_and_flies_right(duck)"
   ]
  },
  {
   "cell_type": "markdown",
   "metadata": {},
   "source": [
    "### Examples"
   ]
  },
  {
   "cell_type": "code",
   "execution_count": 50,
   "metadata": {},
   "outputs": [
    {
     "name": "stdout",
     "output_type": "stream",
     "text": [
      "Missing person element.\n",
      "Missing 'email' key from the dictionary.\n"
     ]
    }
   ],
   "source": [
    "# person = {'name': 'John', 'age': 32, 'email':'john@gmail.com'}\n",
    "person = {'name': 'John', 'age': 32}\n",
    "\n",
    "# LBYL\n",
    "# Non Pythonic version\n",
    "if 'name' in person and 'age' in person and 'email' in person:\n",
    "    print(\"Person {name}, of age {age} has the email {email}\".format(**person))\n",
    "else:\n",
    "    print(\"Missing person element.\")\n",
    "\n",
    "# EAFP\n",
    "# Pythonic version\n",
    "try:\n",
    "    print(\"Person {name}, of age {age} has the email {email}\".format(**person))\n",
    "except KeyError as e:\n",
    "    print(f'Missing {e} key from the dictionary.')"
   ]
  },
  {
   "cell_type": "code",
   "execution_count": 51,
   "metadata": {},
   "outputs": [
    {
     "name": "stdout",
     "output_type": "stream",
     "text": [
      "List out of index.\n",
      "Missing index value. Error raised: 'list index out of range'\n"
     ]
    }
   ],
   "source": [
    "# Grab a certain index from a list\n",
    "# my_list = [1, 4, 3, 53, 23, 66, 200]\n",
    "my_list = [1, 4, 3]\n",
    "\n",
    "# Non Pythonic way\n",
    "if len(my_list) >= 6:\n",
    "    print(my_list[5])\n",
    "else:\n",
    "    print('List out of index.')\n",
    "\n",
    "\n",
    "# Pythonic way\n",
    "try:\n",
    "    print(my_list[5])\n",
    "except IndexError as e:\n",
    "    print(f\"Missing index value. Error raised: '{e}'\")"
   ]
  },
  {
   "cell_type": "markdown",
   "metadata": {},
   "source": [
    "## Idiomatic Python\n",
    "Watched over video: https://www.youtube.com/watch?v=LtKl2JRASlM"
   ]
  },
  {
   "cell_type": "code",
   "execution_count": 52,
   "metadata": {},
   "outputs": [
    {
     "name": "stdout",
     "output_type": "stream",
     "text": [
      "The Zen of Python, by Tim Peters\n",
      "\n",
      "Beautiful is better than ugly.\n",
      "Explicit is better than implicit.\n",
      "Simple is better than complex.\n",
      "Complex is better than complicated.\n",
      "Flat is better than nested.\n",
      "Sparse is better than dense.\n",
      "Readability counts.\n",
      "Special cases aren't special enough to break the rules.\n",
      "Although practicality beats purity.\n",
      "Errors should never pass silently.\n",
      "Unless explicitly silenced.\n",
      "In the face of ambiguity, refuse the temptation to guess.\n",
      "There should be one-- and preferably only one --obvious way to do it.\n",
      "Although that way may not be obvious at first unless you're Dutch.\n",
      "Now is better than never.\n",
      "Although never is often better than *right* now.\n",
      "If the implementation is hard to explain, it's a bad idea.\n",
      "If the implementation is easy to explain, it may be a good idea.\n",
      "Namespaces are one honking great idea -- let's do more of those!\n"
     ]
    }
   ],
   "source": [
    "# zen of python\n",
    "import this"
   ]
  },
  {
   "cell_type": "code",
   "execution_count": 53,
   "metadata": {},
   "outputs": [
    {
     "name": "stdout",
     "output_type": "stream",
     "text": [
      "Hello\n",
      "World\n"
     ]
    }
   ],
   "source": [
    "# script setup and statements\n",
    "\n",
    "# One statement per line\n",
    "print('Hello')\n",
    "print('World')\n",
    "\n",
    "# shebang code used to define the type of python file\n",
    "#!/usr/bin/env python3"
   ]
  },
  {
   "cell_type": "code",
   "execution_count": 54,
   "metadata": {},
   "outputs": [
    {
     "name": "stdout",
     "output_type": "stream",
     "text": [
      "This is true\n",
      "This is false\n",
      "This is true\n",
      "This is false\n"
     ]
    }
   ],
   "source": [
    "# truth value testing\n",
    "true_value = True\n",
    "false_value = False\n",
    "\n",
    "# Bad\n",
    "if true_value == True:\n",
    "    print('This is true')\n",
    "\n",
    "if false_value == False:\n",
    "    print('This is false')\n",
    "\n",
    "# Pythonic and right way to test truth values\n",
    "if true_value:\n",
    "    print('This is true')\n",
    "if not false_value:\n",
    "    print('This is false')"
   ]
  },
  {
   "cell_type": "markdown",
   "metadata": {},
   "source": [
    "## String formatting"
   ]
  },
  {
   "cell_type": "code",
   "execution_count": 55,
   "metadata": {},
   "outputs": [
    {
     "name": "stdout",
     "output_type": "stream",
     "text": [
      "Hi, my name is Michael, and I'm 32 years old.\n",
      "I am Michael, and my age is 32, living in Paris\n"
     ]
    }
   ],
   "source": [
    "name = 'Michael'\n",
    "age = 32\n",
    "\n",
    "# Pythonic way of using strings\n",
    "print(f\"Hi, my name is {name}, and I'm {age} years old.\")\n",
    "\n",
    "# If you're using a dictionary data\n",
    "data = {\n",
    "    'name': 'Michael',\n",
    "    'age': 32,\n",
    "    'location': 'Paris'}\n",
    "print(\"I am {name}, and my age is {age}, living in {location}\".format(**data))\n"
   ]
  },
  {
   "cell_type": "markdown",
   "metadata": {},
   "source": [
    "## Merging dictionaries"
   ]
  },
  {
   "cell_type": "code",
   "execution_count": 56,
   "metadata": {},
   "outputs": [
    {
     "name": "stdout",
     "output_type": "stream",
     "text": [
      "{'id': 123, 'render_fast': True, 'email': 'm@m.com', 'name': 'Mike', 'title': 'Fast apps'}\n",
      "{'id': 123, 'render_fast': True, 'email': 'm@m.com', 'name': 'Mike', 'title': 'Fast apps'}\n"
     ]
    }
   ],
   "source": [
    "route = {'id': 123, 'title': 'Fast apps'}\n",
    "query = {'id': 1, 'render_fast': True }\n",
    "post = {'email':'m@m.com', 'name': 'Mike'}\n",
    "\n",
    "# Non-pythonic procedural way\n",
    "m1 = {}\n",
    "for k in query:\n",
    "    m1[k] = query[k]\n",
    "for k in post:\n",
    "    m1[k] = post[k]\n",
    "for k in route:\n",
    "    m1[k] = route[k]\n",
    "\n",
    "print(m1)\n",
    "\n",
    "# Pythonic, things that go at the end have priority\n",
    "m1 = {**query, **post, **route}\n",
    "print(m1)\n"
   ]
  },
  {
   "cell_type": "markdown",
   "metadata": {},
   "source": [
    "## Keyword arguments\n",
    "Connecting to a database, user, server..."
   ]
  },
  {
   "cell_type": "code",
   "execution_count": 57,
   "metadata": {},
   "outputs": [],
   "source": [
    "# usual declaring\n",
    "def connect(user, server, replicate, use_ssl):\n",
    "    # work with user, server...\n",
    "    pass\n",
    "\n",
    "# instead using a *karg of required\n",
    "def connect_karg(*kwarg, user, server, replicate, use_ssl):\n",
    "    print('worked', *kwarg)\n",
    "    print(*kwarg)"
   ]
  },
  {
   "cell_type": "code",
   "execution_count": 58,
   "metadata": {},
   "outputs": [],
   "source": [
    "connect('mKenedy', 'db_srv', True, False)"
   ]
  },
  {
   "cell_type": "code",
   "execution_count": 59,
   "metadata": {},
   "outputs": [
    {
     "name": "stdout",
     "output_type": "stream",
     "text": [
      "worked john smith ['authors']\n",
      "john smith ['authors']\n"
     ]
    }
   ],
   "source": [
    "connect_karg('john', 'smith', ['authors'],user='mKenedy', server='db_srv',replicate=True, use_ssl=False)"
   ]
  },
  {
   "cell_type": "markdown",
   "metadata": {},
   "source": [
    "## On demand computation with yield"
   ]
  },
  {
   "cell_type": "code",
   "execution_count": 60,
   "metadata": {},
   "outputs": [
    {
     "data": {
      "text/plain": [
       "[1, 1, 2, 3, 5, 8, 13, 21, 34, 55, 89, 144]"
      ]
     },
     "execution_count": 60,
     "metadata": {},
     "output_type": "execute_result"
    }
   ],
   "source": [
    "# Running out of memory and other issues:\n",
    "def classic_fibonacci(limit):\n",
    "    nums = []\n",
    "    current, nxt = 0, 1\n",
    "\n",
    "    while current < limit:\n",
    "        current, nxt = nxt, nxt + current\n",
    "        nums.append(current)\n",
    "    \n",
    "    return nums\n",
    "\n",
    "classic_fibonacci(100)"
   ]
  },
  {
   "cell_type": "code",
   "execution_count": 61,
   "metadata": {},
   "outputs": [
    {
     "name": "stdout",
     "output_type": "stream",
     "text": [
      "1\n",
      "1\n",
      "2\n",
      "3\n",
      "5\n",
      "8\n",
      "13\n",
      "21\n",
      "34\n",
      "55\n"
     ]
    }
   ],
   "source": [
    "# creating performant functions with generator objects\n",
    "def fibonacci_generator():\n",
    "    current, nxt = 0, 1\n",
    "    while True:\n",
    "        current, nxt = nxt, nxt + current\n",
    "        yield current\n",
    "\n",
    "fib_num = fibonacci_generator()\n",
    "\n",
    "for i in range(10):\n",
    "    print(next(fib_num))"
   ]
  },
  {
   "cell_type": "markdown",
   "metadata": {},
   "source": [
    "## Recursive yields made easy"
   ]
  },
  {
   "cell_type": "code",
   "execution_count": 62,
   "metadata": {},
   "outputs": [
    {
     "name": "stdout",
     "output_type": "stream",
     "text": [
      "<generator object get_files at 0x7fa23605ed60>\n",
      "res/test_animals_copy.txt\n",
      "res/animals.txt\n",
      "res/no_animals.txt\n",
      "res/atypical_copy.png\n",
      "res/atypical.png\n"
     ]
    }
   ],
   "source": [
    "import os\n",
    "\n",
    "def get_files(folder):\n",
    "    for item in os.listdir(folder):\n",
    "        full_item = os.path.join(folder, item)\n",
    "\n",
    "        if os.path.isfile(full_item):\n",
    "            yield full_item\n",
    "        elif os.path.isdir(full_item):\n",
    "            yield from get_files(full_item)\n",
    "\n",
    "# generator object will be an iterative/recursive function\n",
    "print(get_files('res'))\n",
    "\n",
    "# we can iterate through this function/object\n",
    "for file in get_files('res'):\n",
    "    print(file)"
   ]
  },
  {
   "cell_type": "markdown",
   "metadata": {},
   "source": [
    "## Counting iterables"
   ]
  },
  {
   "cell_type": "code",
   "execution_count": 67,
   "metadata": {},
   "outputs": [],
   "source": [
    "# for objects we cannot call len on\n",
    "high_measurements = # data_layer.higher_than(60)\n",
    "\n",
    "high_count = 0\n",
    "for m in high_measurements:\n",
    "    high_count += 1\n",
    "\n",
    "# inline generator\n",
    "high_count = sum(1 for _ in high_measurements)"
   ]
  },
  {
   "cell_type": "markdown",
   "metadata": {},
   "source": [
    "## Slicing inifinity"
   ]
  },
  {
   "cell_type": "code",
   "execution_count": 72,
   "metadata": {},
   "outputs": [
    {
     "data": {
      "text/plain": [
       "[1, 1, 2, 3, 5, 8, 13]"
      ]
     },
     "execution_count": 72,
     "metadata": {},
     "output_type": "execute_result"
    }
   ],
   "source": [
    "numbers = classic_fibonacci(200)[:7]\n",
    "numbers"
   ]
  },
  {
   "cell_type": "code",
   "execution_count": 78,
   "metadata": {},
   "outputs": [
    {
     "name": "stdout",
     "output_type": "stream",
     "text": [
      "<itertools.islice object at 0x7fa236069ae0>\n"
     ]
    },
    {
     "data": {
      "text/plain": [
       "[1, 1, 2, 3, 5]"
      ]
     },
     "execution_count": 78,
     "metadata": {},
     "output_type": "execute_result"
    }
   ],
   "source": [
    "# for generator objects\n",
    "import itertools\n",
    "numbers_5 = itertools.islice(fibonacci_generator(), 5)\n",
    "print(numbers_5)\n",
    "list(numbers_5)"
   ]
  },
  {
   "cell_type": "markdown",
   "metadata": {},
   "source": [
    "## Hacking Python's memory with slots"
   ]
  },
  {
   "cell_type": "code",
   "execution_count": 82,
   "metadata": {},
   "outputs": [],
   "source": [
    "# __slots__\n",
    "# https://tech.oyster.com/save-ram-with-python-slots/\n"
   ]
  },
  {
   "cell_type": "code",
   "execution_count": null,
   "metadata": {},
   "outputs": [],
   "source": []
  },
  {
   "cell_type": "code",
   "execution_count": null,
   "metadata": {},
   "outputs": [],
   "source": []
  }
 ],
 "metadata": {
  "interpreter": {
   "hash": "aee8b7b246df8f9039afb4144a1f6fd8d2ca17a180786b69acc140d282b71a49"
  },
  "kernelspec": {
   "display_name": "Python 3.10.0 64-bit",
   "language": "python",
   "name": "python3"
  },
  "language_info": {
   "codemirror_mode": {
    "name": "ipython",
    "version": 3
   },
   "file_extension": ".py",
   "mimetype": "text/x-python",
   "name": "python",
   "nbconvert_exporter": "python",
   "pygments_lexer": "ipython3",
   "version": "3.9.6"
  },
  "orig_nbformat": 4
 },
 "nbformat": 4,
 "nbformat_minor": 2
}
