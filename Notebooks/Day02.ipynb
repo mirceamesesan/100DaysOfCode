{
 "cells": [
  {
   "cell_type": "markdown",
   "metadata": {},
   "source": [
    "# Day 02\n",
    "For today we will get indepth Conditions and Chained Conditionals"
   ]
  },
  {
   "cell_type": "markdown",
   "metadata": {},
   "source": [
    "### (if) statements\n",
    "Helps us determene which statements get executed depending on values be True of False"
   ]
  },
  {
   "cell_type": "code",
   "execution_count": 4,
   "metadata": {},
   "outputs": [
    {
     "name": "stdout",
     "output_type": "stream",
     "text": [
      "Conditional was true...\n"
     ]
    }
   ],
   "source": [
    "# Simplest if statement\n",
    "if True:\n",
    "    print('Conditional was true...')"
   ]
  },
  {
   "cell_type": "code",
   "execution_count": 5,
   "metadata": {},
   "outputs": [
    {
     "name": "stdout",
     "output_type": "stream",
     "text": [
      "Conditional was True\n"
     ]
    }
   ],
   "source": [
    "# if statements usually run if the given value evaluates to True\n",
    "name = 'John'\n",
    "\n",
    "if name == 'John':\n",
    "    print('Conditional was True!')"
   ]
  },
  {
   "cell_type": "markdown",
   "metadata": {},
   "source": [
    "Posible comparisons in Conditionals"
   ]
  },
  {
   "cell_type": "code",
   "execution_count": 6,
   "metadata": {},
   "outputs": [],
   "source": [
    "# Comparisons:\n",
    "# Equal:              ==\n",
    "# Not equal:          !=\n",
    "# Greater Than:       >\n",
    "# Less Than:          <\n",
    "# Greater or Equal    >=\n",
    "# Less or Equal       <=\n",
    "# Object identity:    is\n"
   ]
  },
  {
   "cell_type": "markdown",
   "metadata": {},
   "source": [
    "### (else) statements"
   ]
  },
  {
   "cell_type": "code",
   "execution_count": 9,
   "metadata": {},
   "outputs": [
    {
     "name": "stdout",
     "output_type": "stream",
     "text": [
      "No match found\n"
     ]
    }
   ],
   "source": [
    "name = 'Matt'\n",
    "\n",
    "if name == 'John':\n",
    "    print('This is a friend...')\n",
    "else:\n",
    "    print('No match found')"
   ]
  },
  {
   "cell_type": "markdown",
   "metadata": {},
   "source": [
    "### (elif) statement"
   ]
  },
  {
   "cell_type": "code",
   "execution_count": 11,
   "metadata": {},
   "outputs": [
    {
     "name": "stdout",
     "output_type": "stream",
     "text": [
      "Yes, this is Matt.\n"
     ]
    }
   ],
   "source": [
    "if name == 'John':\n",
    "    print('This is John.')\n",
    "elif name == 'Matt':\n",
    "    print('Yes, this is Matt.')\n",
    "else:\n",
    "    print('No match found')"
   ]
  },
  {
   "cell_type": "code",
   "execution_count": 19,
   "metadata": {},
   "outputs": [
    {
     "name": "stdout",
     "output_type": "stream",
     "text": [
      "Red is true, a color.\n",
      "This works still\n",
      "This is a color\n"
     ]
    }
   ],
   "source": [
    "# Boolean operations\n",
    "# and\n",
    "# or\n",
    "# not\n",
    "color = 'red'\n",
    "is_color = True\n",
    "\n",
    "# 'and' make sure that both values are true\n",
    "if color == 'red' and is_color:\n",
    "    print('Red is true, a color.')\n",
    "else:\n",
    "    print('Bad color')\n",
    "\n",
    "# 'or' is taking one of the two conditions to be true\n",
    "if color == 'blue' or is_color:\n",
    "    print('This works still')\n",
    "\n",
    "# 'not'\n",
    "if not is_color:\n",
    "    print('This is not a color.')\n",
    "else:\n",
    "    print('This is a color')"
   ]
  },
  {
   "cell_type": "code",
   "execution_count": 24,
   "metadata": {},
   "outputs": [
    {
     "name": "stdout",
     "output_type": "stream",
     "text": [
      "140622058716928 140622058715904\n",
      "False\n",
      "True\n"
     ]
    }
   ],
   "source": [
    "# Object identity 'is' keyword checks if 2 objects are the same\n",
    "a = [1, 2, 3]\n",
    "b = [1, 2, 3]\n",
    "\n",
    "print(id(a), id(b))\n",
    "print(a is b)\n",
    "\n",
    "b = a\n",
    "print(a is b)"
   ]
  },
  {
   "cell_type": "markdown",
   "metadata": {},
   "source": [
    "### False evaluations in Python"
   ]
  },
  {
   "cell_type": "code",
   "execution_count": 28,
   "metadata": {},
   "outputs": [
    {
     "name": "stdout",
     "output_type": "stream",
     "text": [
      "Evaluated to False\n"
     ]
    }
   ],
   "source": [
    "# All the things that evaluate to False in Python:\n",
    "    # False\n",
    "    # None\n",
    "    # Zero of any numeric type\n",
    "    # Any empty sequence. '', (), [].\n",
    "    # Any empty mapping, {}\n",
    "\n",
    "condition = False\n",
    "condition = None\n",
    "condition = 0\n",
    "condition = ''\n",
    "condition = {}\n",
    "\n",
    "if condition:\n",
    "    print('Evaluated to True')\n",
    "else:\n",
    "    print('Evaluated to False')\n"
   ]
  },
  {
   "cell_type": "code",
   "execution_count": null,
   "metadata": {},
   "outputs": [],
   "source": []
  }
 ],
 "metadata": {
  "interpreter": {
   "hash": "41666c07fd87dac521658aedc1b79c9ea4d7a5d9994e46c7981e1f3d1f57ca41"
  },
  "kernelspec": {
   "display_name": "Python 3.9.6 64-bit ('venv': venv)",
   "language": "python",
   "name": "python3"
  },
  "language_info": {
   "codemirror_mode": {
    "name": "ipython",
    "version": 3
   },
   "file_extension": ".py",
   "mimetype": "text/x-python",
   "name": "python",
   "nbconvert_exporter": "python",
   "pygments_lexer": "ipython3",
   "version": "3.9.6"
  },
  "orig_nbformat": 4
 },
 "nbformat": 4,
 "nbformat_minor": 2
}
