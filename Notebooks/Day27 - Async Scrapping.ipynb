{
 "cells": [
  {
   "cell_type": "markdown",
   "metadata": {},
   "source": [
    "# Day 27 Async scrapping with grequests"
   ]
  },
  {
   "cell_type": "code",
   "execution_count": 2,
   "metadata": {},
   "outputs": [],
   "source": [
    "# import requests\n",
    "import grequests\n",
    "from bs4 import BeautifulSoup\n",
    "import time"
   ]
  },
  {
   "cell_type": "code",
   "execution_count": 3,
   "metadata": {},
   "outputs": [],
   "source": [
    "def get_urls():\n",
    "    urls = []\n",
    "    for x in range(1,5):\n",
    "        urls.append(f\"http://books.toscrape.com/catalogue/page-{x}.html\")\n",
    "    return urls"
   ]
  },
  {
   "cell_type": "code",
   "execution_count": 4,
   "metadata": {},
   "outputs": [],
   "source": [
    "def get_data(urls):\n",
    "    requests = [grequests.get(link) for link in urls]        \n",
    "    response = grequests.map(requests)\n",
    "    return response"
   ]
  },
  {
   "cell_type": "code",
   "execution_count": 5,
   "metadata": {},
   "outputs": [],
   "source": [
    "def parse_data(response):\n",
    "    for r in response:\n",
    "        soup = BeautifulSoup(r.text, 'html')\n",
    "        # data = soup.find_all('div', {'class':'grid-product-details'})\n",
    "        data = soup.find_all('article', {'class':'product_pod'})\n",
    "\n",
    "        for item in data:\n",
    "            # title = item.find('h5').text\n",
    "            # author = item.find('div', {'class':'subtitlu-produs'}).text\n",
    "            title = item.find('h3').text\n",
    "            price = item.find('p', {'class':'price_color'}).text\n",
    "            # print(title, author)\n",
    "            print(title, price)\n",
    "    return"
   ]
  },
  {
   "cell_type": "code",
   "execution_count": 6,
   "metadata": {},
   "outputs": [],
   "source": [
    "urls = get_urls()\n",
    "responses = get_data(urls)"
   ]
  },
  {
   "cell_type": "code",
   "execution_count": 7,
   "metadata": {},
   "outputs": [
    {
     "name": "stdout",
     "output_type": "stream",
     "text": [
      "A Light in the ... Â£51.77\n",
      "Tipping the Velvet Â£53.74\n",
      "Soumission Â£50.10\n",
      "Sharp Objects Â£47.82\n",
      "Sapiens: A Brief History ... Â£54.23\n",
      "The Requiem Red Â£22.65\n",
      "The Dirty Little Secrets ... Â£33.34\n",
      "The Coming Woman: A ... Â£17.93\n",
      "The Boys in the ... Â£22.60\n",
      "The Black Maria Â£52.15\n",
      "Starving Hearts (Triangular Trade ... Â£13.99\n",
      "Shakespeare's Sonnets Â£20.66\n",
      "Set Me Free Â£17.46\n",
      "Scott Pilgrim's Precious Little ... Â£52.29\n",
      "Rip it Up and ... Â£35.02\n",
      "Our Band Could Be ... Â£57.25\n",
      "Olio Â£23.88\n",
      "Mesaerion: The Best Science ... Â£37.59\n",
      "Libertarianism for Beginners Â£51.33\n",
      "It's Only the Himalayas Â£45.17\n",
      "In Her Wake Â£12.84\n",
      "How Music Works Â£37.32\n",
      "Foolproof Preserving: A Guide ... Â£30.52\n",
      "Chase Me (Paris Nights ... Â£25.27\n",
      "Black Dust Â£34.53\n",
      "Birdsong: A Story in ... Â£54.64\n",
      "America's Cradle of Quarterbacks: ... Â£22.50\n",
      "Aladdin and His Wonderful ... Â£53.13\n",
      "Worlds Elsewhere: Journeys Around ... Â£40.30\n",
      "Wall and Piece Â£44.18\n",
      "The Four Agreements: A ... Â£17.66\n",
      "The Five Love Languages: ... Â£31.05\n",
      "The Elephant Tree Â£23.82\n",
      "The Bear and the ... Â£36.89\n",
      "Sophie's World Â£15.94\n",
      "Penny Maybe Â£33.29\n",
      "Maude (1883-1993):She Grew Up ... Â£18.02\n",
      "In a Dark, Dark ... Â£19.63\n",
      "Behind Closed Doors Â£52.22\n",
      "You can't bury them ... Â£33.63\n",
      "Slow States of Collapse: ... Â£57.31\n",
      "Reasons to Stay Alive Â£26.41\n",
      "Private Paris (Private #10) Â£47.61\n",
      "#HigherSelfie: Wake Up Your ... Â£23.11\n",
      "Without Borders (Wanderlove #1) Â£45.07\n",
      "When We Collided Â£31.77\n",
      "We Love You, Charlie ... Â£50.27\n",
      "Untitled Collection: Sabbath Poems ... Â£14.27\n",
      "Unseen City: The Majesty ... Â£44.18\n",
      "Unicorn Tracks Â£18.78\n",
      "Unbound: How Eight Technologies ... Â£25.52\n",
      "Tsubasa: WoRLD CHRoNiCLE 2 ... Â£16.28\n",
      "Throwing Rocks at the ... Â£31.12\n",
      "This One Summer Â£19.49\n",
      "Thirst Â£17.27\n",
      "The Torch Is Passed: ... Â£19.09\n",
      "The Secret of Dreadwillow ... Â£56.13\n",
      "The Pioneer Woman Cooks: ... Â£56.41\n",
      "The Past Never Ends Â£56.50\n",
      "The Natural History of ... Â£45.22\n",
      "The Nameless City (The ... Â£38.16\n",
      "The Murder That Never ... Â£54.11\n",
      "The Most Perfect Thing: ... Â£42.96\n",
      "The Mindfulness and Acceptance ... Â£23.89\n",
      "The Life-Changing Magic of ... Â£16.77\n",
      "The Inefficiency Assassin: Time ... Â£20.59\n",
      "The Gutsy Girl: Escapades ... Â£37.13\n",
      "The Electric Pencil: Drawings ... Â£56.06\n",
      "The Death of Humanity: ... Â£58.11\n",
      "The Bulletproof Diet: Lose ... Â£49.05\n",
      "The Art Forger Â£40.76\n",
      "The Age of Genius: ... Â£19.73\n",
      "The Activist's Tao Te ... Â£32.24\n",
      "Spark Joy: An Illustrated ... Â£41.83\n",
      "Soul Reader Â£39.58\n",
      "Security Â£39.25\n",
      "Saga, Volume 6 (Saga ... Â£25.02\n",
      "Saga, Volume 5 (Saga ... Â£51.04\n",
      "Reskilling America: Learning to ... Â£19.83\n",
      "Rat Queens, Vol. 3: ... Â£50.40\n"
     ]
    }
   ],
   "source": [
    "parse_data(responses)"
   ]
  },
  {
   "cell_type": "markdown",
   "metadata": {},
   "source": [
    "### Scrapping a real-world website to get title / author / price\n",
    "https://carturesti.ro/raft/carte-109?page=1"
   ]
  },
  {
   "cell_type": "code",
   "execution_count": 8,
   "metadata": {},
   "outputs": [],
   "source": [
    "import grequests\n",
    "from bs4 import BeautifulSoup"
   ]
  },
  {
   "cell_type": "code",
   "execution_count": 9,
   "metadata": {},
   "outputs": [],
   "source": [
    "def get_urls():\n",
    "    urls = []\n",
    "    # the URL has over 1000 pages, we're only looking into first 20\n",
    "    for x in range(5,10):\n",
    "        urls.append(f\"https://carturesti.ro/raft/carte-109?page={x}\")\n",
    "    return urls"
   ]
  },
  {
   "cell_type": "code",
   "execution_count": 17,
   "metadata": {},
   "outputs": [],
   "source": [
    "def exception(request, exception):\n",
    "    print('Request failed...')\n",
    "\n",
    "def get_data(urls):\n",
    "    print(urls)\n",
    "    requests = [grequests.get(link) for link in urls]\n",
    "    response = grequests.map(requests, exception_handler=exception)\n",
    "    \n",
    "    return response"
   ]
  },
  {
   "cell_type": "code",
   "execution_count": 18,
   "metadata": {},
   "outputs": [
    {
     "name": "stdout",
     "output_type": "stream",
     "text": [
      "['https://carturesti.ro/raft/carte-109?page=5', 'https://carturesti.ro/raft/carte-109?page=6', 'https://carturesti.ro/raft/carte-109?page=7', 'https://carturesti.ro/raft/carte-109?page=8', 'https://carturesti.ro/raft/carte-109?page=9']\n"
     ]
    },
    {
     "data": {
      "text/plain": [
       "[<Response [200]>,\n",
       " <Response [200]>,\n",
       " <Response [200]>,\n",
       " <Response [200]>,\n",
       " <Response [200]>]"
      ]
     },
     "execution_count": 18,
     "metadata": {},
     "output_type": "execute_result"
    }
   ],
   "source": [
    "urls = get_urls()\n",
    "get_data(urls)"
   ]
  },
  {
   "cell_type": "code",
   "execution_count": 12,
   "metadata": {},
   "outputs": [
    {
     "name": "stdout",
     "output_type": "stream",
     "text": [
      "Request failed...\n"
     ]
    },
    {
     "data": {
      "text/plain": [
       "[<Response [200]>,\n",
       " <Response [200]>,\n",
       " <Response [200]>,\n",
       " <Response [200]>,\n",
       " None,\n",
       " <Response [200]>]"
      ]
     },
     "execution_count": 12,
     "metadata": {},
     "output_type": "execute_result"
    }
   ],
   "source": [
    "urls = [\n",
    "    'http://www.heroku.com',\n",
    "    'http://python-tablib.org',\n",
    "    'http://httpbin.org',\n",
    "    'http://python-requests.org',\n",
    "    'http://fakedomain/',\n",
    "    'http://kennethreitz.com'\n",
    "]\n",
    "\n",
    "get_data(urls)\n"
   ]
  },
  {
   "cell_type": "code",
   "execution_count": null,
   "metadata": {},
   "outputs": [],
   "source": []
  }
 ],
 "metadata": {
  "interpreter": {
   "hash": "f2703099fcc5f4b2cb37bcbda98b445f06df7d737913c37cfbca76fc6bf9a61d"
  },
  "kernelspec": {
   "display_name": "Python 3.9.6 ('venv': venv)",
   "language": "python",
   "name": "python3"
  },
  "language_info": {
   "codemirror_mode": {
    "name": "ipython",
    "version": 3
   },
   "file_extension": ".py",
   "mimetype": "text/x-python",
   "name": "python",
   "nbconvert_exporter": "python",
   "pygments_lexer": "ipython3",
   "version": "3.9.6"
  },
  "orig_nbformat": 4
 },
 "nbformat": 4,
 "nbformat_minor": 2
}
